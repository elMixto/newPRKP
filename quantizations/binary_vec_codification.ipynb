{
 "cells": [
  {
   "cell_type": "code",
   "execution_count": 94,
   "metadata": {},
   "outputs": [],
   "source": [
    "from annoy import AnnoyIndex\n",
    "import numpy as np\n",
    "from numpy.random import random\n",
    "from functools import partial\n",
    "from matplotlib import pyplot as plt"
   ]
  },
  {
   "cell_type": "code",
   "execution_count": 106,
   "metadata": {},
   "outputs": [
    {
     "name": "stdout",
     "output_type": "stream",
     "text": [
      "0 [1. 0. 0. 0. 0. 0. 0. 0. 0. 0.]\n",
      "1 [1. 0. 1. 0. 0. 0. 0. 0. 0. 0.]\n",
      "2 [1. 0. 0. 0. 1. 0. 0. 0. 0. 0.]\n",
      "3 [1. 0. 0. 0. 0. 1. 0. 0. 0. 0.]\n",
      "4 [1. 0. 0. 0. 0. 0. 0. 0. 1. 0.]\n",
      "5 [0. 1. 0. 0. 0. 0. 0. 1. 0. 0.]\n",
      "6 [0. 0. 1. 0. 0. 0. 0. 0. 0. 0.]\n",
      "7 [0. 0. 1. 0. 0. 1. 0. 0. 0. 0.]\n",
      "8 [0. 0. 0. 1. 0. 0. 0. 0. 0. 1.]\n",
      "9 [0. 0. 0. 0. 1. 0. 0. 0. 0. 0.]\n",
      "10 [0. 0. 0. 1. 0. 1. 0. 0. 0. 0.]\n",
      "11 [0. 0. 0. 1. 0. 0. 1. 0. 0. 0.]\n",
      "12 [0. 0. 0. 0. 0. 1. 1. 0. 0. 0.]\n",
      "13 [1. 0. 0. 0. 0. 0. 0. 0. 0. 1.]\n",
      "14 [0. 0. 0. 0. 1. 0. 0. 0. 0. 1.]\n"
     ]
    },
    {
     "data": {
      "text/plain": [
       "<matplotlib.colorbar.Colorbar at 0x7fb9b202c210>"
      ]
     },
     "execution_count": 106,
     "metadata": {},
     "output_type": "execute_result"
    },
    {
     "data": {
      "image/png": "[encoded data removed]",
      "text/plain": [
       "<Figure size 480x480 with 2 Axes>"
      ]
     },
     "metadata": {},
     "output_type": "display_data"
    }
   ],
   "source": [
    "\n",
    "# Crea un índice Annoy con la dimensión adecuada (5 en este ejemplo)\n",
    "items = 10\n",
    "polys = dict()\n",
    "matrix = np.zeros((items,items))\n",
    "for i in range(items):\n",
    "    for j in range(items):\n",
    "        if random() > 0.9:\n",
    "            v = random()\n",
    "            polys[(i,j)] = v\n",
    "            matrix[(i,j)] = v\n",
    "            matrix[(j,i)] = v\n",
    "\n",
    "def tupla_a_vector_binario(tupla,size):\n",
    "    output = np.zeros(size)\n",
    "    for i in tupla:\n",
    "        output[i] = 1\n",
    "    return output\n",
    "\n",
    "t2bv = partial(tupla_a_vector_binario,size=items)\n",
    "dimension = items\n",
    "index = AnnoyIndex(dimension, metric='angular')  # Utiliza métrica angular para similitud binaria\n",
    "\n",
    "i = 0\n",
    "for tupla,value in polys.items():\n",
    "    index.add_item(i,t2bv(tupla))\n",
    "    print(i,t2bv(tupla))\n",
    "    i+= 1\n",
    "\n",
    "index.build(10)\n",
    "query_vector = t2bv((1,2))\n",
    "results = index.get_nns_by_vector(query_vector, 1)\n",
    "\n",
    "plt.matshow(matrix)\n",
    "plt.colorbar(label=\"Escala\")\n",
    "\n",
    "\n",
    "\n"
   ]
  }
 ],
 "metadata": {
  "kernelspec": {
   "display_name": "Python 3",
   "language": "python",
   "name": "python3"
  },
  "language_info": {
   "codemirror_mode": {
    "name": "ipython",
    "version": 3
   },
   "file_extension": ".py",
   "mimetype": "text/x-python",
   "name": "python",
   "nbconvert_exporter": "python",
   "pygments_lexer": "ipython3",
   "version": "3.11.5"
  },
  "orig_nbformat": 4
 },
 "nbformat": 4,
 "nbformat_minor": 2
}
