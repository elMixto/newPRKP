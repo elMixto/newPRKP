{
 "cells": [
  {
   "cell_type": "code",
   "execution_count": 135,
   "metadata": {},
   "outputs": [],
   "source": [
    "from src.data_structures.Instance import Instance\n",
    "from src.solvers.collection import SolverCollection\n",
    "import torch\n",
    "import numpy as np"
   ]
  },
  {
   "cell_type": "code",
   "execution_count": 136,
   "metadata": {},
   "outputs": [
    {
     "name": "stdout",
     "output_type": "stream",
     "text": [
      "[0.0, -0.0, 1.0, 0.0, 1.0] 97.28738496618023\n"
     ]
    }
   ],
   "source": [
    "instance = Instance.generate(5,2,seed=10)\n",
    "solution = SolverCollection.gurobi_optimal(instance)\n",
    "print(solution.sol,solution.o)"
   ]
  },
  {
   "cell_type": "code",
   "execution_count": 137,
   "metadata": {},
   "outputs": [
    {
     "data": {
      "text/plain": [
       "array([0, 1, 2, 3, 4])"
      ]
     },
     "execution_count": 137,
     "metadata": {},
     "output_type": "execute_result"
    }
   ],
   "source": [
    "#La mascara indica que items estan presentes en la instancia del problema\n",
    "#admeas el indice de la mascara se usa como item virtual\n",
    "\n",
    "\n",
    "instance.mask = np.arange(0,instance.n_items,1)\n",
    "instance.original_size = instance.n_items\n",
    "#Hay que guardar el tamaño original para poder reconstruir la mascara original o la solucion final\n",
    "instance.mask"
   ]
  },
  {
   "cell_type": "code",
   "execution_count": 138,
   "metadata": {},
   "outputs": [],
   "source": [
    "instance.fixed = [-1 for i in range(instance.n_items)]\n",
    "instance.fixed\n",
    "pop_array = lambda array,index: np.concatenate([array[:index],array[index+1:]])\n"
   ]
  },
  {
   "cell_type": "code",
   "execution_count": 139,
   "metadata": {},
   "outputs": [],
   "source": [
    "def fijar_valor(instance: Instance,index,value):\n",
    "    instance.fixed[index] = value\n",
    "    instance.mask = pop_array(instance.mask,index)\n",
    "    if value == 0:\n",
    "        n_items = instance.n_items - 1\n",
    "        #Ahora no es necesario fijar este valor\n",
    "        #En los profits ya no hay que considerar el elemento\n",
    "        #Como el elemento no se elige, no afecta los profits\n",
    "        profits = pop_array(instance.profits,2)\n",
    "        #No es necesario modificar el budget\n",
    "        budget = instance.budget\n",
    "        #El gamma se queda igual? Esto tengo que revisarlo\n",
    "        gamma = instance.gamma \n",
    "        #Se supone que si no elijo un elemento\n",
    "        costs = instance.costs\n",
    "        polinomial_gains = dict()\n",
    "        keys = list(instance.syn_dict.keys())\n",
    "        \n",
    "        for key in keys:\n",
    "            if index in key:\n",
    "                instance.syn_dict.pop(key)\n",
    "        print(instance.syn_dict)\n",
    "        \n",
    "        \n",
    "        \n",
    "        \n",
    "        "
   ]
  },
  {
   "cell_type": "code",
   "execution_count": 140,
   "metadata": {},
   "outputs": [
    {
     "name": "stdout",
     "output_type": "stream",
     "text": [
      "{(2, 3): 7.795774553390887, (2, 4): 18.399002698799173, (3, 2): 21.64193575007686, (3, 1): 41.51556321288107, (1, 3, 2): 9.481715905946048, (0, 1, 4): 6.6476823973868395, (3, 1, 2, 4): 8.274522720905479}\n",
      "{(3, 1): 41.51556321288107, (0, 1, 4): 6.6476823973868395}\n"
     ]
    }
   ],
   "source": [
    "print(instance.syn_dict)\n",
    "fijar_valor(instance,2,0)"
   ]
  }
 ],
 "metadata": {
  "kernelspec": {
   "display_name": "Python 3",
   "language": "python",
   "name": "python3"
  },
  "language_info": {
   "codemirror_mode": {
    "name": "ipython",
    "version": 3
   },
   "file_extension": ".py",
   "mimetype": "text/x-python",
   "name": "python",
   "nbconvert_exporter": "python",
   "pygments_lexer": "ipython3",
   "version": "3.11.5"
  },
  "orig_nbformat": 4
 },
 "nbformat": 4,
 "nbformat_minor": 2
}
