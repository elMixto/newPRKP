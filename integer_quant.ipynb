{
 "cells": [
  {
   "cell_type": "code",
   "execution_count": 233,
   "metadata": {},
   "outputs": [
    {
     "name": "stdout",
     "output_type": "stream",
     "text": [
      "Datos Originales: tensor([[0.3333, 0.7778, 0.1111, 1.0000, 0.5556]])\n",
      "Datos Cuantizados: tensor([[ 0.7610],\n",
      "        [ 0.7610],\n",
      "        [-0.2906],\n",
      "        [ 0.7610],\n",
      "        [ 0.7610]], grad_fn=<ViewBackward0>)\n",
      "Índices de Cuantización: tensor([[2, 2, 3, 2, 2]])\n",
      "Datos Reconstruidos: tensor([[[ 0.7610],\n",
      "         [ 0.7610],\n",
      "         [-0.2906],\n",
      "         [ 0.7610],\n",
      "         [ 0.7610]]], grad_fn=<IndexBackward0>)\n"
     ]
    }
   ],
   "source": [
    "import torch\n",
    "import torch.nn as nn\n",
    "\n",
    "class VectorQuantization(nn.Module):\n",
    "    def __init__(self, num_embeddings, embedding_dim):\n",
    "        super(VectorQuantization, self).__init__()\n",
    "        self.embedding_dim = embedding_dim\n",
    "        self.embedding = nn.Embedding(num_embeddings, embedding_dim)\n",
    "        self.embedding.weight.data.uniform_(-1, 1)  # Inicialización de los embeddings\n",
    "\n",
    "    def forward(self, x):\n",
    "        # Redimensionar la entrada para que sea 2D (batch_size, seq_len)\n",
    "        x = x.view(-1, self.embedding_dim)\n",
    "        \n",
    "        # Encontrar el índice más cercano en el diccionario de embeddings\n",
    "        dist = torch.cdist(x.unsqueeze(0), self.embedding.weight.unsqueeze(0))\n",
    "        indices = torch.argmin(dist, dim=-1)\n",
    "        quantized = self.embedding(indices)\n",
    "        \n",
    "        # Reshape de vuelta a la forma original\n",
    "        quantized = quantized.view(x.size())\n",
    "\n",
    "        return quantized, indices\n",
    "\n",
    "# Crear una instancia de VectorQuantization con enteros\n",
    "num_embeddings = 5  # Número de embeddings (ajustado a 100 para 100 enteros diferentes)\n",
    "embedding_dim = 1    # Dimensión de cada embedding (1 para enteros)\n",
    "vq = VectorQuantization(num_embeddings, embedding_dim)\n",
    "# Datos de entrada (números enteros)\n",
    "input_data = torch.tensor([[3.0, 7.0, 1.0, 9.0, 5.0]])\n",
    "max_i = torch.max(input_data)\n",
    "input_data = input_data/max_i\n",
    "\n",
    "# Cuantizar los enteros\n",
    "quantized_data, indices = vq(input_data)\n",
    "\n",
    "# Reconstruir los enteros originales a partir de los índices\n",
    "reconstructed_data = vq.embedding.weight[indices]\n",
    "\n",
    "# Imprimir los resultados\n",
    "print(\"Datos Originales:\", input_data)\n",
    "print(\"Datos Cuantizados:\", quantized_data)\n",
    "print(\"Índices de Cuantización:\", indices)\n",
    "print(\"Datos Reconstruidos:\", reconstructed_data)"
   ]
  }
 ],
 "metadata": {
  "kernelspec": {
   "display_name": "Python 3",
   "language": "python",
   "name": "python3"
  },
  "language_info": {
   "codemirror_mode": {
    "name": "ipython",
    "version": 3
   },
   "file_extension": ".py",
   "mimetype": "text/x-python",
   "name": "python",
   "nbconvert_exporter": "python",
   "pygments_lexer": "ipython3",
   "version": "3.11.5"
  },
  "orig_nbformat": 4
 },
 "nbformat": 4,
 "nbformat_minor": 2
}
