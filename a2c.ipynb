{
 "cells": [
  {
   "cell_type": "code",
   "execution_count": 6,
   "metadata": {},
   "outputs": [],
   "source": [
    "import torch\n",
    "import torch.nn as nn\n",
    "import torch.optim as optim\n",
    "import torch.nn.functional as F\n",
    "import gym\n",
    "import numpy as np"
   ]
  },
  {
   "cell_type": "code",
   "execution_count": 7,
   "metadata": {},
   "outputs": [],
   "source": [
    "class ActorCritic(nn.Module):\n",
    "    def __init__(self, num_inputs, num_actions):\n",
    "        super(ActorCritic, self).__init__()\n",
    "        self.actor = nn.Sequential(\n",
    "            nn.Linear(num_inputs, 64),\n",
    "            nn.ReLU(),\n",
    "            nn.Linear(64, num_actions)\n",
    "        )\n",
    "        self.critic = nn.Sequential(\n",
    "            nn.Linear(num_inputs, 64),\n",
    "            nn.ReLU(),\n",
    "            nn.Linear(64, 1)\n",
    "        )\n",
    "\n",
    "    def forward(self, x):\n",
    "        policy = F.softmax(self.actor(x), dim=1)\n",
    "        value = self.critic(x)\n",
    "        return policy, value"
   ]
  },
  {
   "cell_type": "code",
   "execution_count": 8,
   "metadata": {},
   "outputs": [],
   "source": [
    "# Función para calcular la ventaja\n",
    "def compute_advantage(rewards, values, gamma=0.99):\n",
    "    returns = []\n",
    "    advs = []\n",
    "    R = 0\n",
    "    for r, v in zip(reversed(rewards), reversed(values)):\n",
    "        R = r + gamma * R\n",
    "        adv = R - v.item()\n",
    "        returns.insert(0, R)\n",
    "        advs.insert(0, adv)\n",
    "    return torch.FloatTensor(returns), torch.FloatTensor(advs)"
   ]
  },
  {
   "cell_type": "code",
   "execution_count": 9,
   "metadata": {},
   "outputs": [
    {
     "ename": "ValueError",
     "evalue": "expected sequence of length 4 at dim 1 (got 0)",
     "output_type": "error",
     "traceback": [
      "\u001b[0;31m---------------------------------------------------------------------------\u001b[0m",
      "\u001b[0;31mValueError\u001b[0m                                Traceback (most recent call last)",
      "\u001b[1;32m/home/mixto/repositories/PRKP/a2c.ipynb Cell 4\u001b[0m line \u001b[0;36m1\n\u001b[1;32m     <a href='vscode-notebook-cell:/home/mixto/repositories/PRKP/a2c.ipynb#W4sZmlsZQ%3D%3D?line=12'>13</a>\u001b[0m rewards \u001b[39m=\u001b[39m []\n\u001b[1;32m     <a href='vscode-notebook-cell:/home/mixto/repositories/PRKP/a2c.ipynb#W4sZmlsZQ%3D%3D?line=14'>15</a>\u001b[0m \u001b[39mwhile\u001b[39;00m \u001b[39mTrue\u001b[39;00m:\n\u001b[0;32m---> <a href='vscode-notebook-cell:/home/mixto/repositories/PRKP/a2c.ipynb#W4sZmlsZQ%3D%3D?line=15'>16</a>\u001b[0m     state_tensor \u001b[39m=\u001b[39m torch\u001b[39m.\u001b[39;49mFloatTensor(state)\u001b[39m.\u001b[39munsqueeze(\u001b[39m0\u001b[39m)\n\u001b[1;32m     <a href='vscode-notebook-cell:/home/mixto/repositories/PRKP/a2c.ipynb#W4sZmlsZQ%3D%3D?line=16'>17</a>\u001b[0m     policy, value \u001b[39m=\u001b[39m ac_model(state_tensor)\n\u001b[1;32m     <a href='vscode-notebook-cell:/home/mixto/repositories/PRKP/a2c.ipynb#W4sZmlsZQ%3D%3D?line=17'>18</a>\u001b[0m     action \u001b[39m=\u001b[39m torch\u001b[39m.\u001b[39mmultinomial(policy, \u001b[39m1\u001b[39m)\u001b[39m.\u001b[39mitem()\n",
      "\u001b[0;31mValueError\u001b[0m: expected sequence of length 4 at dim 1 (got 0)"
     ]
    }
   ],
   "source": [
    "num_inputs = env.observation_space.shape[0]\n",
    "num_actions = env.action_space.n\n",
    "ac_model = ActorCritic(num_inputs, num_actions)\n",
    "optimizer = optim.Adam(ac_model.parameters(), lr=3e-2)\n",
    "env = gym.make('CartPole-v1')\n",
    "\n",
    "# Entrenamiento\n",
    "num_episodes = 1000\n",
    "for episode in range(num_episodes):\n",
    "    state = env.reset()\n",
    "    log_probs = []\n",
    "    values = []\n",
    "    rewards = []\n",
    "\n",
    "    while True:\n",
    "        state_tensor = torch.FloatTensor(state).unsqueeze(0)\n",
    "        policy, value = ac_model(state_tensor)\n",
    "        action = torch.multinomial(policy, 1).item()\n",
    "        next_state, reward, done, _ = env.step(action)\n",
    "\n",
    "        log_prob = F.log_softmax(policy, dim=1)\n",
    "        log_probs.append(log_prob[0, action])\n",
    "        values.append(value)\n",
    "        rewards.append(reward)\n",
    "\n",
    "        state = next_state\n",
    "\n",
    "        if done:\n",
    "            returns, advantages = compute_advantage(rewards, values)\n",
    "            log_probs = torch.stack(log_probs)\n",
    "            advantages = (advantages - advantages.mean()) / (advantages.std() + 1e-8)\n",
    "\n",
    "            actor_loss = -(log_probs * advantages.detach()).sum()\n",
    "            critic_loss = F.smooth_l1_loss(torch.cat(values), returns.detach())\n",
    "\n",
    "            total_loss = actor_loss + 0.5 * critic_loss\n",
    "\n",
    "            optimizer.zero_grad()\n",
    "            total_loss.backward()\n",
    "            optimizer.step()\n",
    "\n",
    "            print(f'Episode: {episode}, Total Reward: {sum(rewards)}')\n",
    "            break\n",
    "\n",
    "env.close()"
   ]
  }
 ],
 "metadata": {
  "kernelspec": {
   "display_name": "Python 3",
   "language": "python",
   "name": "python3"
  },
  "language_info": {
   "codemirror_mode": {
    "name": "ipython",
    "version": 3
   },
   "file_extension": ".py",
   "mimetype": "text/x-python",
   "name": "python",
   "nbconvert_exporter": "python",
   "pygments_lexer": "ipython3",
   "version": "3.11.5"
  }
 },
 "nbformat": 4,
 "nbformat_minor": 2
}
