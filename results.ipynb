{
 "cells": [
  {
   "cell_type": "code",
   "execution_count": 12,
   "metadata": {},
   "outputs": [],
   "source": [
    "from src.data_structures import Instance\n",
    "from src.solvers.collection import SolverCollection,Solution,SolverConfig\n",
    "import sys"
   ]
  },
  {
   "cell_type": "code",
   "execution_count": 13,
   "metadata": {},
   "outputs": [],
   "source": [
    "instance_sizes = [100,500,1000,1500,2000,5000,10000]\n",
    "instance_num   = [1,0,0,0,0,0,0]\n",
    "solvers = {\n",
    "            \"baldo\":SolverCollection.baldo_GA,\n",
    "            \"ml\":SolverCollection.baldo_ML,\n",
    "            \"optimal\":SolverCollection.gurobi_optimal,\n",
    "            \"cont\":SolverCollection.gurobi_continous\n",
    "            }\n",
    "\n",
    "results = {}\n",
    "instances = []"
   ]
  },
  {
   "cell_type": "code",
   "execution_count": 14,
   "metadata": {},
   "outputs": [],
   "source": [
    "for i,size in enumerate(instance_sizes):\n",
    "    for j in range(instance_num[i]):\n",
    "        instance = Instance.generate(size,20)\n",
    "        instances.append(instance)\n"
   ]
  },
  {
   "cell_type": "code",
   "execution_count": 15,
   "metadata": {},
   "outputs": [
    {
     "name": "stdout",
     "output_type": "stream",
     "text": [
      "100"
     ]
    }
   ],
   "source": [
    "from time import time\n",
    "for instance in instances:\n",
    "    sys.stdout.write(f\"\\r{instance.n_items}\")\n",
    "    sys.stdout.flush()\n",
    "    results[str(instance)] = {}\n",
    "    for k,solver in solvers.items():\n",
    "        start = time()\n",
    "        solution: Solution = solver(instance)\n",
    "        finish = time() - start\n",
    "        results[str(instance)][k] = {\"of\": solution.o,\n",
    "                                     \"sol\": solution.sol,\n",
    "                                     \"time\": finish}"
   ]
  },
  {
   "cell_type": "code",
   "execution_count": 16,
   "metadata": {},
   "outputs": [],
   "source": [
    "import json\n",
    "import pickle\n",
    "resultados = open(\"resultados.bin\",\"wb\")\n",
    "pickle.dump(results,resultados)\n"
   ]
  },
  {
   "cell_type": "code",
   "execution_count": 17,
   "metadata": {},
   "outputs": [
    {
     "name": "stdout",
     "output_type": "stream",
     "text": [
      "{'baldo': {'of': 4480.288429375064, 'sol': [1, 1, 0, 1, 0, 1, 1, 1, 0, 1, 0, 1, 1, 1, 0, 0, 1, 0, 1, 1, 0, 1, 1, 0, 1, 1, 1, 1, 1, 1, 1, 1, 0, 0, 1, 1, 0, 1, 1, 0, 0, 1, 1, 0, 1, 0, 0, 0, 0, 0, 0, 1, 0, 1, 1, 1, 1, 0, 1, 1, 0, 1, 0, 1, 1, 0, 1, 0, 0, 0, 1, 1, 0, 0, 0, 1, 1, 1, 1, 1, 1, 1, 0, 0, 1, 1, 1, 1, 0, 1, 1, 0, 1, 0, 0, 1, 1, 0, 1, 1], 'time': 0.7354118824005127}, 'ml': {'of': 4480.621203844173, 'sol': [1.0, 1.0, 0.0, 1.0, -0.0, 1.0, 1.0, 1.0, -0.0, 1.0, 0.0, 1.0, 1.0, 1.0, -0.0, -0.0, 1.0, 0.0, 1.0, 1.0, -0.0, 1.0, 1.0, -0.0, 1.0, 1.0, 1.0, 1.0, 1.0, 1.0, 1.0, 1.0, 0.0, -0.0, 1.0, 1.0, -0.0, 1.0, 1.0, 0.0, -0.0, 1.0, 1.0, -0.0, 1.0, -0.0, 0.0, 0.0, -0.0, -0.0, 0.0, 1.0, 0.0, 1.0, 1.0, 1.0, 1.0, 0.0, 1.0, 1.0, 0.0, 1.0, -0.0, -0.0, 1.0, -0.0, 1.0, -0.0, -0.0, 0.0, 1.0, 1.0, -0.0, 1.0, -0.0, 1.0, 1.0, 1.0, 1.0, 1.0, 1.0, 1.0, -0.0, 0.0, 1.0, 1.0, 1.0, 1.0, 0.0, 1.0, 1.0, 0.0, 1.0, -0.0, 0.0, 1.0, 1.0, -0.0, 1.0, 0.0], 'time': 0.5399465560913086}, 'optimal': {'of': 4480.621203844173, 'sol': array([1., 1., 0., 1., 0., 1., 1., 1., 0., 1., 0., 1., 1., 1., 0., 0., 1.,\n",
      "       0., 1., 1., 0., 1., 1., 0., 1., 1., 1., 1., 1., 1., 1., 1., 0., 0.,\n",
      "       1., 1., 0., 1., 1., 0., 0., 1., 1., 0., 1., 0., 0., 0., 0., 0., 0.,\n",
      "       1., 0., 1., 1., 1., 1., 0., 1., 1., 0., 1., 0., 0., 1., 0., 1., 0.,\n",
      "       0., 0., 1., 1., 0., 1., 0., 1., 1., 1., 1., 1., 1., 1., 0., 0., 1.,\n",
      "       1., 1., 1., 0., 1., 1., 0., 1., 0., 0., 1., 1., 0., 1., 0.]), 'time': 3.4332275390625e-05}, 'cont': {'of': 6544.739253095128, 'sol': [1.0, 1.0, 0.0, 1.0, 0.0, 1.0, 1.0, 1.0, 0.0, 0.6893097787829011, 0.3369864338980484, 0.4702371201345724, 1.0, 0.35942775267746385, 0.37673256089025847, 0.3595261964072725, 0.6023816343125008, 0.0, 1.0, 1.0, 0.0, 1.0, 1.0, 0.6464002856200991, 1.0, 1.0, 1.0, 1.0, 1.0, 1.0, 1.0, 1.0, 0.0, 0.21887007259470273, 1.0, 0.47209663458271, 0.0, 1.0, 1.0, 0.0, 0.0, 1.0, 1.0, 0.0, 0.5274666728578095, 0.0, 0.4800188343879594, 0.0, 0.3781495228718862, 0.0, 0.0, 1.0, 0.0, 1.0, 1.0, 1.0, 1.0, 0.0, 1.0, 1.0, 0.0, 1.0, 0.0, 0.7276087198123034, 1.0, 0.0, 0.6779164467228491, 0.3770201577895613, 0.3928227121002271, 0.39613558137566757, 0.8661798354190298, 1.0, 0.3782992693492014, 0.0, 0.0, 1.0, 1.0, 1.0, 1.0, 1.0, 1.0, 1.0, 0.3748629083259354, 0.0, 1.0, 1.0, 1.0, 1.0, 0.37028370586490406, 1.0, 1.0, 0.0, 0.562966203612558, 0.4047090520836151, 0.0, 1.0, 1.0, 0.0, 1.0, 1.0], 'time': 0.04995012283325195}}\n"
     ]
    }
   ],
   "source": [
    "for key,value in results.items():\n",
    "    print(value)"
   ]
  }
 ],
 "metadata": {
  "kernelspec": {
   "display_name": "Python 3",
   "language": "python",
   "name": "python3"
  },
  "language_info": {
   "codemirror_mode": {
    "name": "ipython",
    "version": 3
   },
   "file_extension": ".py",
   "mimetype": "text/x-python",
   "name": "python",
   "nbconvert_exporter": "python",
   "pygments_lexer": "ipython3",
   "version": "3.11.5"
  },
  "orig_nbformat": 4
 },
 "nbformat": 4,
 "nbformat_minor": 2
}
