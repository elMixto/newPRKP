{
 "cells": [
  {
   "cell_type": "code",
   "execution_count": 60,
   "metadata": {},
   "outputs": [],
   "source": [
    "from src.data_structures import Instance\n",
    "import torch\n",
    "from torch import nn\n",
    "import torch\n",
    "from torch.optim import Adam"
   ]
  },
  {
   "cell_type": "code",
   "execution_count": 61,
   "metadata": {},
   "outputs": [],
   "source": [
    "instance = Instance.generate(100,30)"
   ]
  },
  {
   "cell_type": "code",
   "execution_count": 62,
   "metadata": {},
   "outputs": [],
   "source": [
    "class Net(nn.Module):\n",
    "    def __init__(self, entrada,salida):\n",
    "        super(Net, self).__init__()\n",
    "        hidden_size = 200\n",
    "        self.many = nn.Sequential(\n",
    "            nn.Linear(entrada, hidden_size),\n",
    "            nn.Linear(hidden_size,salida),\n",
    "            nn.Sigmoid())\n",
    "\n",
    "    def forward(self, x):   \n",
    "        x = self.many(x)\n",
    "        return x\n"
   ]
  },
  {
   "cell_type": "code",
   "execution_count": 89,
   "metadata": {},
   "outputs": [
    {
     "name": "stdout",
     "output_type": "stream",
     "text": [
      "tensor([ 0.,  1.,  2.,  3.,  4.,  5.,  6.,  7.,  8.,  9., 10., 11., 12., 13.,\n",
      "        14., 15., 16., 17., 18., 19., 20., 21., 22., 23., 24., 25., 26., 27.,\n",
      "        28., 29., 30., 31., 32., 33., 34., 35., 36., 37., 38., 39., 40., 41.,\n",
      "        42., 43., 44., 45., 46., 47., 48., 49., 50., 51., 52., 53., 54., 55.,\n",
      "        56., 57., 58., 59., 60., 61., 62., 63., 64., 65., 66., 67., 68., 69.,\n",
      "        70., 71., 72., 73., 74., 75., 76., 77., 78., 79., 80., 81., 82., 83.,\n",
      "        84., 85., 86., 87., 88., 89., 90., 91., 92., 93., 94., 95., 96., 97.,\n",
      "        98., 99.], dtype=torch.float64)\n"
     ]
    },
    {
     "ename": "NameError",
     "evalue": "name 'np' is not defined",
     "output_type": "error",
     "traceback": [
      "\u001b[0;31m---------------------------------------------------------------------------\u001b[0m",
      "\u001b[0;31mNameError\u001b[0m                                 Traceback (most recent call last)",
      "\u001b[1;32m/home/mixto/repositories/PRKP/ai_on_instance.ipynb Cell 4\u001b[0m line \u001b[0;36m3\n\u001b[1;32m     <a href='vscode-notebook-cell:/home/mixto/repositories/PRKP/ai_on_instance.ipynb#W2sZmlsZQ%3D%3D?line=26'>27</a>\u001b[0m       \u001b[39mreturn\u001b[39;00m of\n\u001b[1;32m     <a href='vscode-notebook-cell:/home/mixto/repositories/PRKP/ai_on_instance.ipynb#W2sZmlsZQ%3D%3D?line=27'>28</a>\u001b[0m   \u001b[39mreturn\u001b[39;00m \u001b[39m-\u001b[39m\u001b[39m1\u001b[39m\n\u001b[0;32m---> <a href='vscode-notebook-cell:/home/mixto/repositories/PRKP/ai_on_instance.ipynb#W2sZmlsZQ%3D%3D?line=29'>30</a>\u001b[0m \u001b[39mprint\u001b[39m(f(x))\n",
      "\u001b[1;32m/home/mixto/repositories/PRKP/ai_on_instance.ipynb Cell 4\u001b[0m line \u001b[0;36m1\n\u001b[1;32m      <a href='vscode-notebook-cell:/home/mixto/repositories/PRKP/ai_on_instance.ipynb#W2sZmlsZQ%3D%3D?line=8'>9</a>\u001b[0m investments \u001b[39m=\u001b[39m investments[investments \u001b[39m!=\u001b[39m \u001b[39m0\u001b[39m] \u001b[39m-\u001b[39m \u001b[39m1\u001b[39m\n\u001b[1;32m     <a href='vscode-notebook-cell:/home/mixto/repositories/PRKP/ai_on_instance.ipynb#W2sZmlsZQ%3D%3D?line=9'>10</a>\u001b[0m \u001b[39mprint\u001b[39m(investments)\n\u001b[0;32m---> <a href='vscode-notebook-cell:/home/mixto/repositories/PRKP/ai_on_instance.ipynb#W2sZmlsZQ%3D%3D?line=12'>13</a>\u001b[0m investments \u001b[39m=\u001b[39m np\u001b[39m.\u001b[39marray([ \u001b[39mint\u001b[39m(i) \u001b[39mfor\u001b[39;00m i \u001b[39min\u001b[39;00m investments \u001b[39mif\u001b[39;00m i \u001b[39m>\u001b[39m \u001b[39m0\u001b[39m ]) \u001b[39m-\u001b[39m \u001b[39m1\u001b[39m\n\u001b[1;32m     <a href='vscode-notebook-cell:/home/mixto/repositories/PRKP/ai_on_instance.ipynb#W2sZmlsZQ%3D%3D?line=13'>14</a>\u001b[0m investments \u001b[39m=\u001b[39m np\u001b[39m.\u001b[39msort(investments)\n\u001b[1;32m     <a href='vscode-notebook-cell:/home/mixto/repositories/PRKP/ai_on_instance.ipynb#W2sZmlsZQ%3D%3D?line=14'>15</a>\u001b[0m investments \u001b[39m=\u001b[39m investments\u001b[39m.\u001b[39mtolist()\n",
      "\u001b[0;31mNameError\u001b[0m: name 'np' is not defined"
     ]
    }
   ],
   "source": [
    "  # Puedes elegir otro optimizador según tus necesidades\n",
    "\n",
    "x = torch.ones(instance.n_items)\n",
    "item_vec = torch.tensor(instance.item_vect)\n",
    "\n",
    "\n",
    "def f(x):\n",
    "    \"\"\"Faster eval function to train a model :D\"\"\"\n",
    "    investments = x * item_vec\n",
    "    investments = investments[investments != 0] - 1\n",
    "    # Falta el resto\n",
    "\n",
    "    investments.sort(key = lambda x: self.costs_deltas[x], reverse = True)\n",
    "    investments = np.array(investments)\n",
    "    upperCosts = np.sum([self.upper_costs[x] for x in investments[:self.gamma]])\n",
    "    nominalCosts = np.sum([self.nominal_costs[x] for x in investments[self.gamma:]])\n",
    "    total_costs = upperCosts + nominalCosts\n",
    "    if total_costs <= self.budget:\n",
    "        of = np.sum([self.profits[x] for x in investments]) - total_costs\n",
    "        investments=set(investments)\n",
    "        for i,syn in enumerate(synSet): #Por cada llave en polsyns\n",
    "            if syn.issubset(investments): #Checkeo si la llave es subconjunto de los investments\n",
    "                of += self.polynomial_gains[self.pol_keys[i]] #Y si es subconjunto, retorno la cosa\n",
    "        return of\n",
    "    return -1\n",
    "\n",
    "print(f(x))\n",
    "\n",
    "\n",
    "\n",
    "\n",
    "\n",
    "\n"
   ]
  },
  {
   "cell_type": "code",
   "execution_count": 64,
   "metadata": {},
   "outputs": [
    {
     "ename": "TypeError",
     "evalue": "bad operand type for unary -: 'type'",
     "output_type": "error",
     "traceback": [
      "\u001b[0;31m---------------------------------------------------------------------------\u001b[0m",
      "\u001b[0;31mTypeError\u001b[0m                                 Traceback (most recent call last)",
      "\u001b[1;32m/home/mixto/repositories/PRKP/ai_on_instance.ipynb Cell 5\u001b[0m line \u001b[0;36m5\n\u001b[1;32m      <a href='vscode-notebook-cell:/home/mixto/repositories/PRKP/ai_on_instance.ipynb#W3sZmlsZQ%3D%3D?line=1'>2</a>\u001b[0m num_epochs \u001b[39m=\u001b[39m \u001b[39m10000\u001b[39m  \u001b[39m# Número de iteraciones\u001b[39;00m\n\u001b[1;32m      <a href='vscode-notebook-cell:/home/mixto/repositories/PRKP/ai_on_instance.ipynb#W3sZmlsZQ%3D%3D?line=2'>3</a>\u001b[0m \u001b[39mfor\u001b[39;00m epoch \u001b[39min\u001b[39;00m \u001b[39mrange\u001b[39m(num_epochs):\n\u001b[1;32m      <a href='vscode-notebook-cell:/home/mixto/repositories/PRKP/ai_on_instance.ipynb#W3sZmlsZQ%3D%3D?line=3'>4</a>\u001b[0m     \u001b[39m# Evaluar la función y los gradientes\u001b[39;00m\n\u001b[0;32m----> <a href='vscode-notebook-cell:/home/mixto/repositories/PRKP/ai_on_instance.ipynb#W3sZmlsZQ%3D%3D?line=4'>5</a>\u001b[0m     output \u001b[39m=\u001b[39m \u001b[39m-\u001b[39;49m f(x)\n\u001b[1;32m      <a href='vscode-notebook-cell:/home/mixto/repositories/PRKP/ai_on_instance.ipynb#W3sZmlsZQ%3D%3D?line=5'>6</a>\u001b[0m     optimizer\u001b[39m.\u001b[39mzero_grad()\n\u001b[1;32m      <a href='vscode-notebook-cell:/home/mixto/repositories/PRKP/ai_on_instance.ipynb#W3sZmlsZQ%3D%3D?line=6'>7</a>\u001b[0m     output\u001b[39m.\u001b[39mbackward()\n",
      "\u001b[0;31mTypeError\u001b[0m: bad operand type for unary -: 'type'"
     ]
    }
   ],
   "source": [
    "optimizer = Adam([x], lr=0.01)\n",
    "# Bucle de optimización\n",
    "num_epochs = 10000  # Número de iteraciones\n",
    "for epoch in range(num_epochs):\n",
    "    # Evaluar la función y los gradientes\n",
    "    output = - f(x)\n",
    "    optimizer.zero_grad()\n",
    "    output.backward()\n",
    "    \n",
    "    # Actualizar el valor de x\n",
    "    optimizer.step()\n",
    "\n",
    "# El valor final de x maximiza la función\n",
    "max_x = x.item()\n",
    "max_f_x = f(x).item()\n",
    "\n",
    "print(\"Valor de x que maximiza f(x):\", max_x)\n",
    "print(\"Valor máximo de f(x):\", max_f_x)"
   ]
  }
 ],
 "metadata": {
  "kernelspec": {
   "display_name": "Python 3",
   "language": "python",
   "name": "python3"
  },
  "language_info": {
   "codemirror_mode": {
    "name": "ipython",
    "version": 3
   },
   "file_extension": ".py",
   "mimetype": "text/x-python",
   "name": "python",
   "nbconvert_exporter": "python",
   "pygments_lexer": "ipython3",
   "version": "3.11.5"
  },
  "orig_nbformat": 4
 },
 "nbformat": 4,
 "nbformat_minor": 2
}
