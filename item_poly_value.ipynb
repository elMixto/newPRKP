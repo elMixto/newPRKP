{
 "cells": [
  {
   "cell_type": "code",
   "execution_count": 2,
   "metadata": {},
   "outputs": [],
   "source": [
    "from fastai.tabular.all import *\n",
    "from src.data_structures import Instance"
   ]
  },
  {
   "cell_type": "code",
   "execution_count": 26,
   "metadata": {},
   "outputs": [
    {
     "name": "stdout",
     "output_type": "stream",
     "text": [
      "[5.42101086e-19 0.00000000e+00 0.00000000e+00 0.00000000e+00\n",
      " 0.00000000e+00 0.00000000e+00 0.00000000e+00 0.00000000e+00\n",
      " 0.00000000e+00 0.00000000e+00 0.00000000e+00 0.00000000e+00\n",
      " 0.00000000e+00 0.00000000e+00 0.00000000e+00 0.00000000e+00\n",
      " 0.00000000e+00 0.00000000e+00 0.00000000e+00 0.00000000e+00\n",
      " 0.00000000e+00 0.00000000e+00 0.00000000e+00 0.00000000e+00\n",
      " 0.00000000e+00 0.00000000e+00 0.00000000e+00 0.00000000e+00\n",
      " 0.00000000e+00 0.00000000e+00 0.00000000e+00 0.00000000e+00]\n"
     ]
    }
   ],
   "source": [
    "instance = Instance.generate(1024,10)\n",
    "powers_of_two = np.array([2**i for i in range(0,32)])\n",
    "len(powers_of_two)\n",
    "\n",
    "def tuple_to_vec(tupla):\n",
    "    output = np.zeros(instance.n_items)\n",
    "    for element in tupla:\n",
    "        output[element-1] = 1\n",
    "    return output\n",
    "\n",
    "for key,value in instance.polynomial_gains.items():\n",
    "    a = tuple_to_vec(Instance.key_to_tuple(key))\n",
    "    a = np.array_split(a,len(a)//32)\n",
    "    a = np.array(list(map(lambda x: np.dot(x,powers_of_two),a)),dtype=np.float64)\n",
    "    input = a/((2**63)-1)\n",
    "    output = value\n",
    "\n",
    "splits = RandomSplitter(seed=42)(training_data)\n",
    "dls = TabularPandas(\n",
    "                training_data,splits = splits,\n",
    "                procs = [],\n",
    "                cat_names = [],\n",
    "                cont_names = [f.name for f in self.data_features],\n",
    "                y_names = [f.name for f in self.objective_features] ,\n",
    "                y_block = CategoryBlock()).dataloaders(path=\".\",bs=64)\n",
    "\n",
    "learner = tabular_learner(dls,metrics=accuracy,layers=self.layers)\n"
   ]
  }
 ],
 "metadata": {
  "kernelspec": {
   "display_name": "Python 3",
   "language": "python",
   "name": "python3"
  },
  "language_info": {
   "codemirror_mode": {
    "name": "ipython",
    "version": 3
   },
   "file_extension": ".py",
   "mimetype": "text/x-python",
   "name": "python",
   "nbconvert_exporter": "python",
   "pygments_lexer": "ipython3",
   "version": "3.11.5"
  },
  "orig_nbformat": 4
 },
 "nbformat": 4,
 "nbformat_minor": 2
}
