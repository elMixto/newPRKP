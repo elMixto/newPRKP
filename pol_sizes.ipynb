{
 "cells": [
  {
   "cell_type": "code",
   "execution_count": 1,
   "metadata": {},
   "outputs": [],
   "source": [
    "from src.data_structures import Instance\n",
    "from src.solvers import SolverCollection\n",
    "from src.solvers.gurobi import SolverConfig\n",
    "from random import randint\n",
    "\n",
    "\n",
    "instance = Instance.generate(1500,20,seed = randint(0,10000000))"
   ]
  },
  {
   "cell_type": "code",
   "execution_count": 2,
   "metadata": {},
   "outputs": [],
   "source": [
    "sol1 = SolverCollection.gurobi(instance,solver_config=SolverConfig.optimal())"
   ]
  },
  {
   "cell_type": "code",
   "execution_count": 3,
   "metadata": {},
   "outputs": [],
   "source": [
    "from copy import deepcopy\n",
    "\n",
    "instance2 = deepcopy(instance)\n",
    "keys = instance2.polynomial_gains.clear()\n"
   ]
  },
  {
   "cell_type": "code",
   "execution_count": 4,
   "metadata": {},
   "outputs": [],
   "source": [
    "sol2 = SolverCollection.gurobi(instance2,solver_config=SolverConfig.optimal())"
   ]
  },
  {
   "cell_type": "code",
   "execution_count": 5,
   "metadata": {},
   "outputs": [
    {
     "name": "stdout",
     "output_type": "stream",
     "text": [
      "Sol(of:55847.308814448064,time:16.848822355270386)\n",
      "Sol(of:46332.18117517656,time:2.4257702827453613)\n",
      "53214.94971516654\n"
     ]
    }
   ],
   "source": [
    "print(sol1)\n",
    "print(sol2)\n",
    "print(instance.evaluate(sol2.sol))"
   ]
  }
 ],
 "metadata": {
  "kernelspec": {
   "display_name": "Python 3",
   "language": "python",
   "name": "python3"
  },
  "language_info": {
   "codemirror_mode": {
    "name": "ipython",
    "version": 3
   },
   "file_extension": ".py",
   "mimetype": "text/x-python",
   "name": "python",
   "nbconvert_exporter": "python",
   "pygments_lexer": "ipython3",
   "version": "3.11.5"
  },
  "orig_nbformat": 4
 },
 "nbformat": 4,
 "nbformat_minor": 2
}
