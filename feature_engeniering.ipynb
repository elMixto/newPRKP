{
 "cells": [
  {
   "cell_type": "code",
   "execution_count": 25,
   "metadata": {},
   "outputs": [],
   "source": [
    "from src.data_structures.features import *\n",
    "from src.data_structures.Instance import Instance\n",
    "from src.solvers.DLHeu import DLHeu\n",
    "from src.solvers.collection import SolverCollection,Solution,SolverConfig\n",
    "from fastai.tabular.all import slide,valley\n",
    "from pathlib import Path"
   ]
  },
  {
   "cell_type": "code",
   "execution_count": 26,
   "metadata": {},
   "outputs": [],
   "source": [
    "\n",
    "#Estas van a vivir en memoria, para poder reentrenar el modelo con nuevas features, sin tener que recalcular soluciones y otras cosillas\n",
    "\n",
    "from random import shuffle\n",
    "\n",
    "\n",
    "data_path = Path(\"./training_data\")\n",
    "instances = map(Instance.from_file,data_path.iterdir())\n",
    "instances = list(instances)\n",
    "shuffle(instances)\n",
    "instances = list(instances)[:100]\n",
    "\n"
   ]
  },
  {
   "cell_type": "code",
   "execution_count": 27,
   "metadata": {},
   "outputs": [],
   "source": [
    "from src.data_structures.features import ItemBatchFeature, ItemSingleFeature\n"
   ]
  },
  {
   "cell_type": "code",
   "execution_count": 28,
   "metadata": {},
   "outputs": [],
   "source": [
    "from src.data_structures import Instance\n",
    "\n",
    "\n",
    "class ExperimentalFeature(ItemBatchFeature):\n",
    "    name = \"Experimental\"\n",
    "\n",
    "    @staticmethod\n",
    "    def batch_evaluate(instance: Instance) -> float:\n",
    "        \"\"\"Average of \"\"\"\n",
    "        syns = [list([0,0]) for i in range(instance.n_items)]\n",
    "        for pol_gain, value in instance.polynomial_gains.items():\n",
    "            if value < 0:\n",
    "                reference = 0\n",
    "            else:\n",
    "                reference = 1\n",
    "            for item in instance.key_to_set(pol_gain):\n",
    "                syns[item][reference] += 1*value\n",
    "        syns = np.array(syns)\n",
    "        salida = syns[:,1]/instance.budget\n",
    "        \n",
    "        return salida"
   ]
  },
  {
   "cell_type": "code",
   "execution_count": 29,
   "metadata": {},
   "outputs": [],
   "source": [
    "from src.data_structures import Instance\n",
    "from numpy import std\n",
    "from random import random\n",
    "\n",
    "\n",
    "class Noise(ItemBatchFeature):\n",
    "    \"\"\"Para medir si otras features son tan utiles como el ruido\"\"\"\n",
    "    name = \"Noise\"\n",
    "    @staticmethod\n",
    "    def batch_evaluate(instance: Instance) -> ArrayLike:\n",
    "        \"\"\"Average of \"\"\"\n",
    "        salida = np.random.random(instance.n_items)\n",
    "        return salida"
   ]
  },
  {
   "cell_type": "code",
   "execution_count": 30,
   "metadata": {},
   "outputs": [],
   "source": [
    "class ExperimentalFeature(ItemBatchFeature):\n",
    "    name = \"Experimental\"\n",
    "    @staticmethod\n",
    "    def batch_evaluate(instance: Instance) -> float:\n",
    "        \"\"\"Average of \"\"\"\n",
    "        syns = [list([0,0]) for i in range(instance.n_items)]\n",
    "        for pol_gain, value in instance.polynomial_gains.items():\n",
    "            if value < 0:\n",
    "                reference = 0\n",
    "            else:\n",
    "                reference = 1\n",
    "            for item in instance.key_to_set(pol_gain):\n",
    "\n",
    "                syns[item][reference] += instance.costs[item][0]*value\n",
    "        syns = np.array(syns)\n",
    "        salida = syns[:,1]/instance.budget\n",
    "        \n",
    "        return salida"
   ]
  },
  {
   "cell_type": "code",
   "execution_count": 31,
   "metadata": {},
   "outputs": [],
   "source": [
    "class Budget(ItemBatchFeature):\n",
    "    name = \"Budget\"\n",
    "    @staticmethod\n",
    "    def batch_evaluate(instance: Instance) -> float:\n",
    "        \"\"\"Normalized Budget?\"\"\"\n",
    "        return np.array([ instance.budget/instance.n_items  for i in range(instance.n_items)])"
   ]
  },
  {
   "cell_type": "code",
   "execution_count": 32,
   "metadata": {},
   "outputs": [],
   "source": [
    "from numpy.typing import ArrayLike\n",
    "from src.data_structures import Instance\n",
    "\n",
    "\n",
    "class StdOfItemProfits(ItemBatchFeature):\n",
    "    name = \"STDIP\"\n",
    "    \n",
    "    @staticmethod\n",
    "    def batch_evaluate(instance: Instance) -> ArrayLike:\n",
    "        singular_value = np.std([instance.profits[i] for i in range(instance.n_items)])\n",
    "        return np.array([singular_value for i in range(instance.n_items)])\n",
    "    \n",
    "class StdOfItemSyns(ItemSingleFeature):\n",
    "    name = \"STDSyns\"\n",
    "    \"This is slow as f\"\n",
    "    @staticmethod\n",
    "    def evaluate(instance: Instance, item: int) -> float:\n",
    "        polinomial_weights = []\n",
    "        for pol_gain, value in instance.polynomial_gains.items():\n",
    "            items_in_pol_gain = Instance.key_to_set(pol_gain)\n",
    "            if item in items_in_pol_gain:\n",
    "                polinomial_weights.append(value)\n",
    "        return np.std(polinomial_weights)\n",
    "\n",
    "    "
   ]
  },
  {
   "cell_type": "code",
   "execution_count": 33,
   "metadata": {},
   "outputs": [],
   "source": [
    "deepl = DLHeu(\n",
    "                [\n",
    "                    \n",
    "                    #ExperimentalFeature,\n",
    "                    Noise,\n",
    "                    Budget,\n",
    "                    UpperCostOverBudget,\n",
    "                    LowerCostOverBudget,\n",
    "                    ProfitOverBudget,\n",
    "                    #CountPSynergiesOverNItems,\n",
    "                    #StdOfItemProfits,\n",
    "                    #StdOfItemSyns,\n",
    "                    #IsInContSol,\n",
    "                 ],\n",
    "                [IsInOptSol],\n",
    "                [10,10]\n",
    "            )"
   ]
  },
  {
   "cell_type": "code",
   "execution_count": 34,
   "metadata": {},
   "outputs": [
    {
     "data": {
      "text/html": [
       "<div>\n",
       "<style scoped>\n",
       "    .dataframe tbody tr th:only-of-type {\n",
       "        vertical-align: middle;\n",
       "    }\n",
       "\n",
       "    .dataframe tbody tr th {\n",
       "        vertical-align: top;\n",
       "    }\n",
       "\n",
       "    .dataframe thead th {\n",
       "        text-align: right;\n",
       "    }\n",
       "</style>\n",
       "<table border=\"1\" class=\"dataframe\">\n",
       "  <thead>\n",
       "    <tr style=\"text-align: right;\">\n",
       "      <th></th>\n",
       "      <th>Noise</th>\n",
       "      <th>Budget</th>\n",
       "      <th>UpperCostOverBudget</th>\n",
       "      <th>LowerCostOverBudget</th>\n",
       "      <th>ProfitOverBudget</th>\n",
       "      <th>IsInOptSol</th>\n",
       "    </tr>\n",
       "  </thead>\n",
       "  <tbody>\n",
       "    <tr>\n",
       "      <th>count</th>\n",
       "      <td>46660.000000</td>\n",
       "      <td>46660.000000</td>\n",
       "      <td>46660.000000</td>\n",
       "      <td>46660.000000</td>\n",
       "      <td>46660.000000</td>\n",
       "      <td>46660.000000</td>\n",
       "    </tr>\n",
       "    <tr>\n",
       "      <th>mean</th>\n",
       "      <td>0.499374</td>\n",
       "      <td>9.296553</td>\n",
       "      <td>0.010288</td>\n",
       "      <td>0.006429</td>\n",
       "      <td>0.017736</td>\n",
       "      <td>0.517102</td>\n",
       "    </tr>\n",
       "    <tr>\n",
       "      <th>std</th>\n",
       "      <td>0.288914</td>\n",
       "      <td>2.612919</td>\n",
       "      <td>0.009475</td>\n",
       "      <td>0.005786</td>\n",
       "      <td>0.012080</td>\n",
       "      <td>0.499713</td>\n",
       "    </tr>\n",
       "    <tr>\n",
       "      <th>min</th>\n",
       "      <td>0.000001</td>\n",
       "      <td>5.992284</td>\n",
       "      <td>0.000140</td>\n",
       "      <td>0.000100</td>\n",
       "      <td>0.003879</td>\n",
       "      <td>0.000000</td>\n",
       "    </tr>\n",
       "    <tr>\n",
       "      <th>25%</th>\n",
       "      <td>0.249354</td>\n",
       "      <td>6.480109</td>\n",
       "      <td>0.004005</td>\n",
       "      <td>0.002568</td>\n",
       "      <td>0.009838</td>\n",
       "      <td>0.000000</td>\n",
       "    </tr>\n",
       "    <tr>\n",
       "      <th>50%</th>\n",
       "      <td>0.499212</td>\n",
       "      <td>8.505742</td>\n",
       "      <td>0.007806</td>\n",
       "      <td>0.004932</td>\n",
       "      <td>0.014389</td>\n",
       "      <td>1.000000</td>\n",
       "    </tr>\n",
       "    <tr>\n",
       "      <th>75%</th>\n",
       "      <td>0.749935</td>\n",
       "      <td>12.578747</td>\n",
       "      <td>0.013363</td>\n",
       "      <td>0.008369</td>\n",
       "      <td>0.021213</td>\n",
       "      <td>1.000000</td>\n",
       "    </tr>\n",
       "    <tr>\n",
       "      <th>max</th>\n",
       "      <td>0.999994</td>\n",
       "      <td>13.189529</td>\n",
       "      <td>0.095300</td>\n",
       "      <td>0.050415</td>\n",
       "      <td>0.100601</td>\n",
       "      <td>1.000000</td>\n",
       "    </tr>\n",
       "  </tbody>\n",
       "</table>\n",
       "</div>"
      ],
      "text/plain": [
       "              Noise        Budget  UpperCostOverBudget  LowerCostOverBudget  \\\n",
       "count  46660.000000  46660.000000         46660.000000         46660.000000   \n",
       "mean       0.499374      9.296553             0.010288             0.006429   \n",
       "std        0.288914      2.612919             0.009475             0.005786   \n",
       "min        0.000001      5.992284             0.000140             0.000100   \n",
       "25%        0.249354      6.480109             0.004005             0.002568   \n",
       "50%        0.499212      8.505742             0.007806             0.004932   \n",
       "75%        0.749935     12.578747             0.013363             0.008369   \n",
       "max        0.999994     13.189529             0.095300             0.050415   \n",
       "\n",
       "       ProfitOverBudget    IsInOptSol  \n",
       "count      46660.000000  46660.000000  \n",
       "mean           0.017736      0.517102  \n",
       "std            0.012080      0.499713  \n",
       "min            0.003879      0.000000  \n",
       "25%            0.009838      0.000000  \n",
       "50%            0.014389      1.000000  \n",
       "75%            0.021213      1.000000  \n",
       "max            0.100601      1.000000  "
      ]
     },
     "execution_count": 34,
     "metadata": {},
     "output_type": "execute_result"
    }
   ],
   "source": [
    "\n",
    "\n",
    "#This generates the training_data from all the instances\n",
    "training_data = deepl.create_training_data(instances)\n",
    "training_data.to_csv(\"./models/final_dl.csv\")\n",
    "#training_data = training_data.sample(frac=0.01)\n",
    "training_data.describe()\n"
   ]
  },
  {
   "cell_type": "code",
   "execution_count": 35,
   "metadata": {},
   "outputs": [
    {
     "data": {
      "text/html": [
       "\n",
       "<style>\n",
       "    /* Turns off some styling */\n",
       "    progress {\n",
       "        /* gets rid of default border in Firefox and Opera. */\n",
       "        border: none;\n",
       "        /* Needs to be in here for Safari polyfill so background images work as expected. */\n",
       "        background-size: auto;\n",
       "    }\n",
       "    progress:not([value]), progress:not([value])::-webkit-progress-bar {\n",
       "        background: repeating-linear-gradient(45deg, #7e7e7e, #7e7e7e 10px, #5c5c5c 10px, #5c5c5c 20px);\n",
       "    }\n",
       "    .progress-bar-interrupted, .progress-bar-interrupted::-webkit-progress-bar {\n",
       "        background: #F44336;\n",
       "    }\n",
       "</style>\n"
      ],
      "text/plain": [
       "<IPython.core.display.HTML object>"
      ]
     },
     "metadata": {},
     "output_type": "display_data"
    },
    {
     "data": {
      "text/html": [],
      "text/plain": [
       "<IPython.core.display.HTML object>"
      ]
     },
     "metadata": {},
     "output_type": "display_data"
    },
    {
     "data": {
      "text/html": [
       "\n",
       "<style>\n",
       "    /* Turns off some styling */\n",
       "    progress {\n",
       "        /* gets rid of default border in Firefox and Opera. */\n",
       "        border: none;\n",
       "        /* Needs to be in here for Safari polyfill so background images work as expected. */\n",
       "        background-size: auto;\n",
       "    }\n",
       "    progress:not([value]), progress:not([value])::-webkit-progress-bar {\n",
       "        background: repeating-linear-gradient(45deg, #7e7e7e, #7e7e7e 10px, #5c5c5c 10px, #5c5c5c 20px);\n",
       "    }\n",
       "    .progress-bar-interrupted, .progress-bar-interrupted::-webkit-progress-bar {\n",
       "        background: #F44336;\n",
       "    }\n",
       "</style>\n"
      ],
      "text/plain": [
       "<IPython.core.display.HTML object>"
      ]
     },
     "metadata": {},
     "output_type": "display_data"
    },
    {
     "data": {
      "text/html": [
       "<table border=\"1\" class=\"dataframe\">\n",
       "  <thead>\n",
       "    <tr style=\"text-align: left;\">\n",
       "      <th>epoch</th>\n",
       "      <th>train_loss</th>\n",
       "      <th>valid_loss</th>\n",
       "      <th>accuracy</th>\n",
       "      <th>time</th>\n",
       "    </tr>\n",
       "  </thead>\n",
       "  <tbody>\n",
       "    <tr>\n",
       "      <td>0</td>\n",
       "      <td>0.277406</td>\n",
       "      <td>0.269910</td>\n",
       "      <td>0.882876</td>\n",
       "      <td>00:03</td>\n",
       "    </tr>\n",
       "    <tr>\n",
       "      <td>1</td>\n",
       "      <td>0.266870</td>\n",
       "      <td>0.256446</td>\n",
       "      <td>0.881269</td>\n",
       "      <td>00:02</td>\n",
       "    </tr>\n",
       "    <tr>\n",
       "      <td>2</td>\n",
       "      <td>0.261938</td>\n",
       "      <td>0.253151</td>\n",
       "      <td>0.887055</td>\n",
       "      <td>00:03</td>\n",
       "    </tr>\n",
       "    <tr>\n",
       "      <td>3</td>\n",
       "      <td>0.262157</td>\n",
       "      <td>0.245797</td>\n",
       "      <td>0.891556</td>\n",
       "      <td>00:02</td>\n",
       "    </tr>\n",
       "    <tr>\n",
       "      <td>4</td>\n",
       "      <td>0.257172</td>\n",
       "      <td>0.242982</td>\n",
       "      <td>0.889306</td>\n",
       "      <td>00:02</td>\n",
       "    </tr>\n",
       "    <tr>\n",
       "      <td>5</td>\n",
       "      <td>0.266361</td>\n",
       "      <td>0.243621</td>\n",
       "      <td>0.891556</td>\n",
       "      <td>00:02</td>\n",
       "    </tr>\n",
       "    <tr>\n",
       "      <td>6</td>\n",
       "      <td>0.262946</td>\n",
       "      <td>0.252379</td>\n",
       "      <td>0.884055</td>\n",
       "      <td>00:02</td>\n",
       "    </tr>\n",
       "    <tr>\n",
       "      <td>7</td>\n",
       "      <td>0.247059</td>\n",
       "      <td>0.241967</td>\n",
       "      <td>0.891663</td>\n",
       "      <td>00:02</td>\n",
       "    </tr>\n",
       "    <tr>\n",
       "      <td>8</td>\n",
       "      <td>0.265901</td>\n",
       "      <td>0.247470</td>\n",
       "      <td>0.886627</td>\n",
       "      <td>00:02</td>\n",
       "    </tr>\n",
       "    <tr>\n",
       "      <td>9</td>\n",
       "      <td>0.263473</td>\n",
       "      <td>0.241201</td>\n",
       "      <td>0.892306</td>\n",
       "      <td>00:02</td>\n",
       "    </tr>\n",
       "  </tbody>\n",
       "</table>"
      ],
      "text/plain": [
       "<IPython.core.display.HTML object>"
      ]
     },
     "metadata": {},
     "output_type": "display_data"
    },
    {
     "data": {
      "image/png": "[encoded data removed]",
      "text/plain": [
       "<Figure size 640x480 with 1 Axes>"
      ]
     },
     "metadata": {},
     "output_type": "display_data"
    }
   ],
   "source": [
    "learner = deepl.create_model(training_data)\n",
    "a = learner.lr_find(suggest_funcs=(slide, valley),stop_div=False)\n",
    "learner.fit(10,lr=(a[1]+a[0])/2)"
   ]
  },
  {
   "cell_type": "code",
   "execution_count": 39,
   "metadata": {},
   "outputs": [
    {
     "data": {
      "text/plain": [
       "Path('models/final_dl.pth')"
      ]
     },
     "execution_count": 39,
     "metadata": {},
     "output_type": "execute_result"
    }
   ],
   "source": []
  },
  {
   "cell_type": "code",
   "execution_count": 36,
   "metadata": {},
   "outputs": [],
   "source": [
    "#instance = Instance.from_file(\"/home/mixto/repositories/newPRKP/data/L_300_179_1897.692.json\")\n",
    "#SolverCollection.gurobi_optimal(instance)\n",
    "\n",
    "instance = Instance.generate(10000,100,seed=2123)\n"
   ]
  },
  {
   "cell_type": "code",
   "execution_count": 37,
   "metadata": {},
   "outputs": [
    {
     "data": {
      "text/html": [
       "\n",
       "<style>\n",
       "    /* Turns off some styling */\n",
       "    progress {\n",
       "        /* gets rid of default border in Firefox and Opera. */\n",
       "        border: none;\n",
       "        /* Needs to be in here for Safari polyfill so background images work as expected. */\n",
       "        background-size: auto;\n",
       "    }\n",
       "    progress:not([value]), progress:not([value])::-webkit-progress-bar {\n",
       "        background: repeating-linear-gradient(45deg, #7e7e7e, #7e7e7e 10px, #5c5c5c 10px, #5c5c5c 20px);\n",
       "    }\n",
       "    .progress-bar-interrupted, .progress-bar-interrupted::-webkit-progress-bar {\n",
       "        background: #F44336;\n",
       "    }\n",
       "</style>\n"
      ],
      "text/plain": [
       "<IPython.core.display.HTML object>"
      ]
     },
     "metadata": {},
     "output_type": "display_data"
    },
    {
     "data": {
      "text/html": [
       "\n",
       "    <div>\n",
       "      <progress value='2' class='' max='157' style='width:300px; height:20px; vertical-align: middle;'></progress>\n",
       "      1.27% [2/157 00:00&lt;00:00 0.2635]\n",
       "    </div>\n",
       "    "
      ],
      "text/plain": [
       "<IPython.core.display.HTML object>"
      ]
     },
     "metadata": {},
     "output_type": "display_data"
    },
    {
     "name": "stdout",
     "output_type": "stream",
     "text": [
      "DLModel: of:332341.65147020685 , time: 95.13958477973938\n",
      "BaldoML: of:331480.98127374065 , time: 76.29827761650085\n",
      "Optimal: of:331480.98127374065 , time: 1\n"
     ]
    }
   ],
   "source": [
    "model: Solution = deepl.solve(instance,learner)\n",
    "print(f\"DLModel: of:{model.o} , time: {model.time}\")\n",
    "\n",
    "baldo = SolverCollection.baldo_ML(instance)\n",
    "print(f\"BaldoML: of:{baldo.o} , time: {baldo.time}\")\n",
    "\n",
    "optimal = SolverCollection.gurobi_optimal(instance)\n",
    "print(f\"Optimal: of:{optimal.o} , time: {optimal.time}\")\n",
    "\n",
    "\n",
    "\n"
   ]
  }
 ],
 "metadata": {
  "kernelspec": {
   "display_name": "Python 3",
   "language": "python",
   "name": "python3"
  },
  "language_info": {
   "codemirror_mode": {
    "name": "ipython",
    "version": 3
   },
   "file_extension": ".py",
   "mimetype": "text/x-python",
   "name": "python",
   "nbconvert_exporter": "python",
   "pygments_lexer": "ipython3",
   "version": "3.11.5"
  },
  "orig_nbformat": 4
 },
 "nbformat": 4,
 "nbformat_minor": 2
}
