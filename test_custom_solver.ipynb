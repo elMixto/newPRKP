{
 "cells": [
  {
   "cell_type": "code",
   "execution_count": 41,
   "metadata": {},
   "outputs": [],
   "source": [
    "from src.data_structures import Instance\n",
    "from src.solvers.OG.model import CustomSolver,Net\n",
    "from src.solvers.OG.integer_quantizer import KmeansQuantizer\n",
    "import numpy as np\n",
    "import torch\n",
    "from matplotlib import pyplot as plt\n",
    "from functools import partial\n",
    "import torch.nn as nn\n",
    "import torch.optim as optim\n",
    "import sys\n",
    "torch.set_default_tensor_type(torch.DoubleTensor)\n"
   ]
  },
  {
   "cell_type": "code",
   "execution_count": 42,
   "metadata": {},
   "outputs": [],
   "source": [
    "instance = Instance.generate_quadratic(25,20)"
   ]
  },
  {
   "cell_type": "code",
   "execution_count": 43,
   "metadata": {},
   "outputs": [],
   "source": [
    "solver = CustomSolver(instance=instance)"
   ]
  },
  {
   "cell_type": "code",
   "execution_count": 44,
   "metadata": {},
   "outputs": [
    {
     "name": "stdout",
     "output_type": "stream",
     "text": [
      "running k-means on cpu..\n"
     ]
    },
    {
     "name": "stderr",
     "output_type": "stream",
     "text": [
      "[running kmeans]: 4it [00:00, 868.12it/s, center_shift=0.000000, iteration=4, tol=0.000100]\n"
     ]
    }
   ],
   "source": [
    "benefit_data = solver.benefit_data\n",
    "quantizer = KmeansQuantizer(benefit_data,10)\n",
    "solver.set_integer_quantizer(quantizer)"
   ]
  },
  {
   "cell_type": "code",
   "execution_count": 45,
   "metadata": {},
   "outputs": [
    {
     "data": {
      "text/plain": [
       "tensor([[1., 0., 1.,  ..., 0., 0., 0.],\n",
       "        [1., 1., 0.,  ..., 0., 0., 0.],\n",
       "        [0., 1., 0.,  ..., 0., 0., 0.],\n",
       "        ...,\n",
       "        [0., 0., 0.,  ..., 0., 1., 0.],\n",
       "        [0., 0., 0.,  ..., 0., 1., 0.],\n",
       "        [0., 0., 0.,  ..., 0., 1., 0.]])"
      ]
     },
     "execution_count": 45,
     "metadata": {},
     "output_type": "execute_result"
    }
   ],
   "source": [
    "\n",
    "\n",
    "x = solver.create_vectorized_data()\n",
    "x\n"
   ]
  },
  {
   "cell_type": "code",
   "execution_count": 46,
   "metadata": {},
   "outputs": [],
   "source": [
    "y = solver.quantizer.indexes().view(-1,1)\n",
    "#Normalizo y \n",
    "y_size = torch.max(y)+1\n",
    "\n",
    "def tupla_a_vector_binario(tupla,size):\n",
    "    output = np.zeros(size)\n",
    "    for i in tupla:\n",
    "        output[i] = 1\n",
    "    return output\n",
    "\n",
    "y = torch.tensor(np.array(list(map(partial(tupla_a_vector_binario,size=y_size),y)),dtype=np.float64))\n",
    "\n",
    "\n",
    "\n"
   ]
  },
  {
   "cell_type": "markdown",
   "metadata": {},
   "source": [
    "En base a la definicion anterior estoy intendando predecir el indice y, en base a la tupla polinomial vectorizada x"
   ]
  },
  {
   "cell_type": "code",
   "execution_count": 47,
   "metadata": {},
   "outputs": [],
   "source": [
    "#Intentar adivinar el indice\n",
    "\n",
    "net = Net(solver.instance.n_items,y_size)\n",
    "criterion = nn.SmoothL1Loss()\n",
    "optimizer = optim.SGD(net.parameters(),lr = 1)\n",
    "\n",
    "dataset = torch.utils.data.TensorDataset(x,y)\n",
    "dataloader = torch.utils.data.DataLoader(dataset,batch_size=3,shuffle=True)"
   ]
  },
  {
   "cell_type": "code",
   "execution_count": 58,
   "metadata": {},
   "outputs": [
    {
     "name": "stdout",
     "output_type": "stream",
     "text": [
      "Epoch 99, Loss 0.0041068506422508416"
     ]
    }
   ],
   "source": [
    "for epoch in range(1000):\n",
    "    total_loss = 0\n",
    "    for batch_x, batch_y in dataloader:\n",
    "        optimizer.zero_grad()\n",
    "        batch_output = net(batch_x)\n",
    "        batch_loss = criterion(batch_output, batch_y)\n",
    "        batch_loss.backward()\n",
    "        optimizer.step()\n",
    "        total_loss += batch_loss.item()\n",
    "    \n",
    "    sys.stdout.write(f'\\rEpoch {epoch}, Loss {total_loss / len(dataloader)}')\n",
    "    sys.stdout.flush()"
   ]
  },
  {
   "cell_type": "code",
   "execution_count": 59,
   "metadata": {},
   "outputs": [
    {
     "name": "stdout",
     "output_type": "stream",
     "text": [
      "0.02212796\n"
     ]
    },
    {
     "data": {
      "image/png": "[encoded data removed]",
      "text/plain": [
       "<Figure size 480x480 with 2 Axes>"
      ]
     },
     "metadata": {},
     "output_type": "display_data"
    }
   ],
   "source": [
    "matrix = np.zeros((instance.n_items,instance.n_items))\n",
    "stats = []\n",
    "\n",
    "for point,value in instance.syn_dict.items():\n",
    "    matrix[point[1],point[0]] = value\n",
    "    vectorized_point = solver.tupla_a_vector_binario(point)\n",
    "    vectorized_point = torch.tensor(vectorized_point).view(1,-1)\n",
    "    vectorized_r_index = net(vectorized_point)\n",
    "    r_index = torch.argmax(vectorized_r_index)\n",
    "    r_value = solver.quantizer.cluster_centers[r_index]\n",
    "    stats.append(abs(value-r_value))\n",
    "    matrix[point[0],point[1]] = abs(value-r_value)\n",
    "\n",
    "print(np.average(stats))\n",
    "plt.matshow(matrix)\n",
    "plt.colorbar(label=\"Escala\")\n",
    "plt.title(f\"{total_loss}\")\n",
    "plt.savefig(\"difference.png\")\n"
   ]
  }
 ],
 "metadata": {
  "kernelspec": {
   "display_name": "Python 3",
   "language": "python",
   "name": "python3"
  },
  "language_info": {
   "codemirror_mode": {
    "name": "ipython",
    "version": 3
   },
   "file_extension": ".py",
   "mimetype": "text/x-python",
   "name": "python",
   "nbconvert_exporter": "python",
   "pygments_lexer": "ipython3",
   "version": "3.11.5"
  },
  "orig_nbformat": 4
 },
 "nbformat": 4,
 "nbformat_minor": 2
}
