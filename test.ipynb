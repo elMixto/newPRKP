{
 "cells": [
  {
   "cell_type": "code",
   "execution_count": 1,
   "metadata": {},
   "outputs": [],
   "source": [
    "from src.data_structures import Instance\n",
    "from src.data_structures.features import *\n",
    "from src.data_structures.Instance import Instance\n",
    "from src.solvers.collection import SolverCollection\n",
    "from fastai.tabular.all import RandomSplitter,TabularPandas,CategoryBlock,accuracy,slide,valley,tabular_learner\n",
    "from fastai.tabular.all import Learner\n",
    "import pandas as pd\n",
    "import numpy as np\n",
    "from functools import lru_cache\n"
   ]
  },
  {
   "cell_type": "code",
   "execution_count": 2,
   "metadata": {},
   "outputs": [
    {
     "ename": "ValueError",
     "evalue": "all the input array dimensions except for the concatenation axis must match exactly, but along dimension 1, the array at index 0 has size 960 and the array at index 2 has size 0",
     "output_type": "error",
     "traceback": [
      "\u001b[0;31m---------------------------------------------------------------------------\u001b[0m",
      "\u001b[0;31mValueError\u001b[0m                                Traceback (most recent call last)",
      "Cell \u001b[0;32mIn[2], line 14\u001b[0m\n\u001b[1;32m      3\u001b[0m \u001b[39mfrom\u001b[39;00m \u001b[39msrc\u001b[39;00m\u001b[39m.\u001b[39;00m\u001b[39msolvers\u001b[39;00m\u001b[39m.\u001b[39;00m\u001b[39mDLHeu\u001b[39;00m \u001b[39mimport\u001b[39;00m DLHeu\n\u001b[1;32m      6\u001b[0m deepl \u001b[39m=\u001b[39m DLHeu(\n\u001b[1;32m      7\u001b[0m                 [\n\u001b[1;32m      8\u001b[0m                 UpperCostOverBudget,\n\u001b[0;32m   (...)\u001b[0m\n\u001b[1;32m     11\u001b[0m                 [IsInOptSol]\n\u001b[1;32m     12\u001b[0m             )\n\u001b[0;32m---> 14\u001b[0m deepl\u001b[39m.\u001b[39;49mcreate_and_save_model()\n",
      "File \u001b[0;32m/mnt/ramdisk/newPRKP/src/solvers/DLHeu.py:109\u001b[0m, in \u001b[0;36mDLHeu.create_and_save_model\u001b[0;34m(self)\u001b[0m\n\u001b[1;32m    108\u001b[0m \u001b[39mdef\u001b[39;00m \u001b[39mcreate_and_save_model\u001b[39m(\u001b[39mself\u001b[39m):\n\u001b[0;32m--> 109\u001b[0m     training_data \u001b[39m=\u001b[39m \u001b[39mself\u001b[39;49m\u001b[39m.\u001b[39;49mcreate_training_data([Instance\u001b[39m.\u001b[39;49mgenerate(i\u001b[39m*\u001b[39;49m\u001b[39m10\u001b[39;49m,\u001b[39m20\u001b[39;49m) \u001b[39mfor\u001b[39;49;00m i \u001b[39min\u001b[39;49;00m \u001b[39mrange\u001b[39;49m(\u001b[39m1\u001b[39;49m,\u001b[39m100\u001b[39;49m,\u001b[39m5\u001b[39;49m)])\n\u001b[1;32m    110\u001b[0m     training_data\u001b[39m.\u001b[39mto_csv(\u001b[39m\"\u001b[39m\u001b[39m./models/DLHeuV1.csv\u001b[39m\u001b[39m\"\u001b[39m)\n\u001b[1;32m    111\u001b[0m     model \u001b[39m=\u001b[39m \u001b[39mself\u001b[39m\u001b[39m.\u001b[39mcreate_model(training_data)\n",
      "File \u001b[0;32m/mnt/ramdisk/newPRKP/src/solvers/DLHeu.py:56\u001b[0m, in \u001b[0;36mDLHeu.create_training_data\u001b[0;34m(self, instances)\u001b[0m\n\u001b[1;32m     54\u001b[0m \u001b[39mdef\u001b[39;00m \u001b[39mcreate_training_data\u001b[39m(\u001b[39mself\u001b[39m,instances):\n\u001b[1;32m     55\u001b[0m     features: \u001b[39mlist\u001b[39m[ItemBatchFeature \u001b[39m|\u001b[39m ItemSingleFeature] \u001b[39m=\u001b[39m \u001b[39mself\u001b[39m\u001b[39m.\u001b[39mdata_features \u001b[39m+\u001b[39m \u001b[39mself\u001b[39m\u001b[39m.\u001b[39mobjective_features\n\u001b[0;32m---> 56\u001b[0m     \u001b[39mreturn\u001b[39;00m \u001b[39mself\u001b[39;49m\u001b[39m.\u001b[39;49mcreate_data(instances,features)\n",
      "File \u001b[0;32m/mnt/ramdisk/newPRKP/src/solvers/DLHeu.py:46\u001b[0m, in \u001b[0;36mDLHeu.create_data\u001b[0;34m(self, instances, features)\u001b[0m\n\u001b[1;32m     43\u001b[0m     \u001b[39melse\u001b[39;00m:\n\u001b[1;32m     44\u001b[0m         \u001b[39mraise\u001b[39;00m \u001b[39mException\u001b[39;00m(\u001b[39m\"\u001b[39m\u001b[39mFeature is not subclass of ItemBatchFeature or ItemSingleFeature\u001b[39m\u001b[39m\"\u001b[39m)\n\u001b[0;32m---> 46\u001b[0m data \u001b[39m=\u001b[39m np\u001b[39m.\u001b[39;49mvstack(data)\u001b[39m.\u001b[39mT\n\u001b[1;32m     47\u001b[0m data \u001b[39m=\u001b[39m pd\u001b[39m.\u001b[39mDataFrame(data,columns\u001b[39m=\u001b[39m[f\u001b[39m.\u001b[39mname \u001b[39mfor\u001b[39;00m f \u001b[39min\u001b[39;00m features])\n\u001b[1;32m     48\u001b[0m \u001b[39mif\u001b[39;00m features_df \u001b[39mis\u001b[39;00m \u001b[39mNone\u001b[39;00m:\n",
      "File \u001b[0;32m/usr/lib/python3.11/site-packages/numpy/core/shape_base.py:289\u001b[0m, in \u001b[0;36mvstack\u001b[0;34m(tup, dtype, casting)\u001b[0m\n\u001b[1;32m    287\u001b[0m \u001b[39mif\u001b[39;00m \u001b[39mnot\u001b[39;00m \u001b[39misinstance\u001b[39m(arrs, \u001b[39mlist\u001b[39m):\n\u001b[1;32m    288\u001b[0m     arrs \u001b[39m=\u001b[39m [arrs]\n\u001b[0;32m--> 289\u001b[0m \u001b[39mreturn\u001b[39;00m _nx\u001b[39m.\u001b[39;49mconcatenate(arrs, \u001b[39m0\u001b[39;49m, dtype\u001b[39m=\u001b[39;49mdtype, casting\u001b[39m=\u001b[39;49mcasting)\n",
      "\u001b[0;31mValueError\u001b[0m: all the input array dimensions except for the concatenation axis must match exactly, but along dimension 1, the array at index 0 has size 960 and the array at index 2 has size 0"
     ]
    }
   ],
   "source": [
    "instance = Instance.generate(100,10)\n",
    "from fastai.learner import load_pickle\n",
    "from src.solvers.DLHeu import DLHeu\n",
    "\n",
    "\n",
    "deepl = DLHeu(\n",
    "                [\n",
    "                 UpperCostOverBudget,\n",
    "                 LowerCostOverBudget\n",
    "                 ],\n",
    "                [IsInOptSol]\n",
    "            )\n",
    "\n",
    "deepl.create_and_save_model()\n",
    "\n"
   ]
  },
  {
   "cell_type": "markdown",
   "metadata": {},
   "source": []
  }
 ],
 "metadata": {
  "kernelspec": {
   "display_name": "Python 3",
   "language": "python",
   "name": "python3"
  },
  "language_info": {
   "codemirror_mode": {
    "name": "ipython",
    "version": 3
   },
   "file_extension": ".py",
   "mimetype": "text/x-python",
   "name": "python",
   "nbconvert_exporter": "python",
   "pygments_lexer": "ipython3",
   "version": "3.11.3"
  },
  "orig_nbformat": 4
 },
 "nbformat": 4,
 "nbformat_minor": 2
}
