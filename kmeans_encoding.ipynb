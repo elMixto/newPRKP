{
 "cells": [
  {
   "cell_type": "code",
   "execution_count": 2,
   "metadata": {},
   "outputs": [
    {
     "name": "stdout",
     "output_type": "stream",
     "text": [
      "running k-means on cpu..\n"
     ]
    },
    {
     "name": "stderr",
     "output_type": "stream",
     "text": [
      "[running kmeans]: 3it [00:00, 1042.49it/s, center_shift=0.000000, iteration=3, tol=0.000100]"
     ]
    },
    {
     "name": "stdout",
     "output_type": "stream",
     "text": [
      "Asignaciones de Clústeres (cluster_ids_x):\n",
      "tensor([1, 1, 1, 1, 0, 0, 0, 2])\n",
      "\n",
      "Coordenadas de los Centroides (cluster_centers):\n",
      "tensor([[16.0000],\n",
      "        [ 6.2500],\n",
      "        [20.0000]])\n"
     ]
    },
    {
     "name": "stderr",
     "output_type": "stream",
     "text": [
      "\n"
     ]
    }
   ],
   "source": [
    "import torch\n",
    "from kmeans_pytorch import kmeans\n",
    "\n",
    "# Datos de entrenamiento\n",
    "data = torch.tensor([3, 5, 7, 10, 14, 16, 18, 20], dtype=torch.float32).view(-1, 1)\n",
    "\n",
    "# Número de clústeres\n",
    "num_clusters = 3\n",
    "\n",
    "# Ejecuta el algoritmo k-means\n",
    "cluster_ids_x, cluster_centers = kmeans(\n",
    "    X=data, num_clusters=num_clusters, distance='euclidean', device=torch.device('cpu')\n",
    ")\n",
    "\n",
    "# Muestra las salidas\n",
    "print(\"Asignaciones de Clústeres (cluster_ids_x):\")\n",
    "print(cluster_ids_x)\n",
    "\n",
    "#Los cluster ids son mis nuevos valores para entrenamiento\n",
    "\n",
    "print(\"\\nCoordenadas de los Centroides (cluster_centers):\")\n",
    "print(cluster_centers)\n"
   ]
  }
 ],
 "metadata": {
  "kernelspec": {
   "display_name": "Python 3",
   "language": "python",
   "name": "python3"
  },
  "language_info": {
   "codemirror_mode": {
    "name": "ipython",
    "version": 3
   },
   "file_extension": ".py",
   "mimetype": "text/x-python",
   "name": "python",
   "nbconvert_exporter": "python",
   "pygments_lexer": "ipython3",
   "version": "3.11.5"
  },
  "orig_nbformat": 4
 },
 "nbformat": 4,
 "nbformat_minor": 2
}
