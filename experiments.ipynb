{
 "cells": [
  {
   "cell_type": "code",
   "execution_count": 3,
   "metadata": {},
   "outputs": [
    {
     "name": "stdout",
     "output_type": "stream",
     "text": [
      "Instance_0_0_0.0\n",
      "Set parameter Username\n",
      "Academic license - for non-commercial use only - expires 2024-07-21\n",
      "items: 0, gamma: 0, time: 0.0004100799560546875\n",
      "Instance_5_0_43.527\n",
      "items: 5, gamma: 0, time: 0.0005331039428710938\n"
     ]
    }
   ],
   "source": [
    "from lib.Instance import Instance\n",
    "from lib.solver import SolverCollection\n",
    "import numpy as np\n",
    "\n",
    "max_i = 10\n",
    "max_g  = 10\n",
    "matrix = np.zeros((max_i,max_g))\n",
    "for items in range(0,max_i,5):\n",
    "    for gamma in range(0,max_g,10):\n",
    "        instance = Instance.generate(items,gamma)\n",
    "        print(instance)\n",
    "        result = SolverCollection.gurobi_local(instance)\n",
    "        matrix[items//5,gamma//10] = result[2]\n",
    "        print(f\"items: {items}, gamma: {gamma}, time: {result[2]}\")"
   ]
  }
 ],
 "metadata": {
  "kernelspec": {
   "display_name": "Python 3",
   "language": "python",
   "name": "python3"
  },
  "language_info": {
   "codemirror_mode": {
    "name": "ipython",
    "version": 3
   },
   "file_extension": ".py",
   "mimetype": "text/x-python",
   "name": "python",
   "nbconvert_exporter": "python",
   "pygments_lexer": "ipython3",
   "version": "3.11.3"
  },
  "orig_nbformat": 4
 },
 "nbformat": 4,
 "nbformat_minor": 2
}
