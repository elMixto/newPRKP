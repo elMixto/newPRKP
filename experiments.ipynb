{
 "cells": [
  {
   "cell_type": "code",
   "execution_count": 9,
   "metadata": {},
   "outputs": [
    {
     "name": "stdout",
     "output_type": "stream",
     "text": [
      "33111.80433744902 17.017597913742065\n",
      "32479.650200562646 16.9885675907135\n",
      "33103.88633149688 2.119534969329834\n"
     ]
    }
   ],
   "source": [
    "\"\"\"Aquí estuve testeando los solvers corregidos del paper\"\"\"\n",
    "\n",
    "from src.solvers.collection import SolverCollection\n",
    "from src.data_structures import Instance\n",
    "from src.solvers.gurobi import SolverConfig\n",
    "from sklearn.exceptions import InconsistentVersionWarning\n",
    "from pprint import pprint\n",
    "i0 = Instance.generate(1000,10)\n",
    "\n",
    "a0,b0,c0 = SolverCollection.gurobi(i0,solver_config=SolverConfig.optimal())\n",
    "a1,b1,c1 = SolverCollection.baldo_GA(i0)\n",
    "a2,b2,c2 = SolverCollection.baldo_ML(i0)\n",
    "\n",
    "print(a0,c0)\n",
    "print(a1,c1)\n",
    "print(a2,c2)"
   ]
  },
  {
   "cell_type": "code",
   "execution_count": null,
   "metadata": {},
   "outputs": [],
   "source": []
  }
 ],
 "metadata": {
  "kernelspec": {
   "display_name": "Python 3",
   "language": "python",
   "name": "python3"
  },
  "language_info": {
   "codemirror_mode": {
    "name": "ipython",
    "version": 3
   },
   "file_extension": ".py",
   "mimetype": "text/x-python",
   "name": "python",
   "nbconvert_exporter": "python",
   "pygments_lexer": "ipython3",
   "version": "3.11.3"
  },
  "orig_nbformat": 4
 },
 "nbformat": 4,
 "nbformat_minor": 2
}
