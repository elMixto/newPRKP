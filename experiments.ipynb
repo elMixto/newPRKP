{
 "cells": [
  {
   "cell_type": "code",
   "execution_count": 3,
   "metadata": {},
   "outputs": [
    {
     "name": "stdout",
     "output_type": "stream",
     "text": [
      "Set parameter Username\n",
      "[5413.676371197387, [1.0, 1.0, 1.0, 1.0, -0.0, 1.0, 1.0, 1.0, -0.0, 1.0, 1.0, 1.0, 1.0, 1.0, -0.0, 1.0, 1.0, 1.0, -0.0, 1.0, 1.0, -0.0, 0.0, -0.0, -0.0, 1.0, 1.0, 0.0, 1.0, -0.0, 0.0, 1.0, -0.0, -0.0, 0.0, 1.0, 0.0, 1.0, -0.0, 0.0, 1.0, -0.0, 1.0, 1.0, 0.0, 1.0, 1.0, 1.0, 1.0, 1.0, 1.0, -0.0, 1.0, 1.0, 1.0, 1.0, 1.0, 0.0, 1.0, 1.0, 1.0, 1.0, 1.0, 1.0, -0.0, 1.0, 1.0, -0.0, 1.0, 1.0, 1.0, -0.0, 0.0, 0.0, 1.0, 1.0, -0.0, 1.0, 1.0, 1.0, 1.0, 1.0, 1.0, 1.0, 1.0, 1.0, 1.0, 1.0, 0.0, -0.0, 1.0, 1.0, 1.0, 1.0, 1.0, -0.0, 0.0, 1.0, 0.0, 0.0], 0.41606760025024414]\n",
      "Set parameter Username\n",
      "(5279.32841707579, [1, 1, 1, 1, 1, 1, 1, 0, 0, 1, 1, 1, 1, 1, 0, 1, 1, 1, 0, 0, 1, 0, 0, 0, 0, 1, 1, 0, 1, 0, 0, 1, 1, 1, 0, 1, 0, 1, 0, 0, 1, 0, 1, 1, 1, 1, 1, 1, 0, 1, 1, 0, 1, 1, 1, 1, 1, 0, 1, 1, 1, 1, 0, 1, 0, 1, 1, 0, 1, 1, 1, 0, 0, 0, 1, 1, 0, 1, 1, 1, 1, 1, 1, 1, 1, 1, 1, 1, 0, 0, 1, 1, 1, 1, 1, 0, 0, 1, 0, 0], 0.29372167587280273)\n"
     ]
    }
   ],
   "source": [
    "from src.solvers.collection import SolverCollection\n",
    "from src.data_structures import Instance\n",
    "from src.solvers.gurobi import SolverConfig\n",
    "from pprint import pprint\n",
    "i0 = Instance.generate(100,0)\n",
    "\n",
    "print(SolverCollection.gurobi(i0,solver_config=SolverConfig.optimal()))\n",
    "print(SolverCollection.baldo_GA(i0))"
   ]
  }
 ],
 "metadata": {
  "kernelspec": {
   "display_name": "Python 3",
   "language": "python",
   "name": "python3"
  },
  "language_info": {
   "codemirror_mode": {
    "name": "ipython",
    "version": 3
   },
   "file_extension": ".py",
   "mimetype": "text/x-python",
   "name": "python",
   "nbconvert_exporter": "python",
   "pygments_lexer": "ipython3",
   "version": "3.11.3"
  },
  "orig_nbformat": 4
 },
 "nbformat": 4,
 "nbformat_minor": 2
}
