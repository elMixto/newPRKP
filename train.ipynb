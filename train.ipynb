{
 "cells": [
  {
   "cell_type": "code",
   "execution_count": 1,
   "metadata": {},
   "outputs": [
    {
     "name": "stdout",
     "output_type": "stream",
     "text": [
      "Set parameter Username\n",
      "Academic license - for non-commercial use only - expires 2024-07-21\n",
      "Sol(of:49339.41735708673,time:20.012256383895874)\n"
     ]
    }
   ],
   "source": [
    "#Esta cosa se dedica solamente a resolver instancias aleatorias de PKRP para obtener soluciones optimas\n",
    "\n",
    "from src.data_structures import Instance\n",
    "from random import randint\n",
    "from src.solvers.collection import SolverCollection\n",
    "from pathlib import Path\n",
    "import numpy as np\n",
    "\n",
    "while True:\n",
    "    data_path = Path(\"./training_data\")\n",
    "    instance = Instance.generate(np.random.randint(200,1500),np.random.randint(10,100))\n",
    "    print(instance)\n",
    "    print(SolverCollection.gurobi_optimal(instance))\n",
    "    instance.save(data_path)"
   ]
  }
 ],
 "metadata": {
  "kernelspec": {
   "display_name": "Python 3",
   "language": "python",
   "name": "python3"
  },
  "language_info": {
   "codemirror_mode": {
    "name": "ipython",
    "version": 3
   },
   "file_extension": ".py",
   "mimetype": "text/x-python",
   "name": "python",
   "nbconvert_exporter": "python",
   "pygments_lexer": "ipython3",
   "version": "3.11.5"
  },
  "orig_nbformat": 4
 },
 "nbformat": 4,
 "nbformat_minor": 2
}
