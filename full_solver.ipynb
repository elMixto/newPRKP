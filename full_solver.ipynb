{
 "cells": [
  {
   "cell_type": "code",
   "execution_count": 35,
   "metadata": {},
   "outputs": [],
   "source": [
    "from src.data_structures import Instance\n",
    "from src.data_structures.features import *\n",
    "from src.solvers.collection import SolverCollection\n",
    "import torch\n",
    "from torch import nn\n",
    "import os\n",
    "from pathlib import Path\n",
    "import sys\n",
    "torch.set_default_tensor_type(torch.DoubleTensor)\n"
   ]
  },
  {
   "cell_type": "code",
   "execution_count": 36,
   "metadata": {},
   "outputs": [],
   "source": [
    "#Training data (Instancias ya solucionadas)\n",
    "def encode_bool_vec(a):\n",
    "    indices = a.nonzero()\n",
    "    a-= 1\n",
    "    indices.T[0]\n",
    "    a[indices] = 1\n",
    "    return a\n",
    "\n",
    "def decode_bool_vec(a):\n",
    "    a = a +  1\n",
    "    indices = a.nonzero()\n",
    "    a[indices] = 1\n",
    "    return a//2\n",
    "\n",
    "\n",
    "\n",
    "max_size = 1500\n",
    "training_data_folder = Path(\"training_data\")\n",
    "expand_vector = lambda x,instance: torch.cat([x,torch.zeros(max_size-instance.n_items)])\n",
    "get_y = lambda instance,sol: expand_vector(torch.tensor(sol),instance)"
   ]
  },
  {
   "cell_type": "code",
   "execution_count": 37,
   "metadata": {},
   "outputs": [],
   "source": [
    "#Features\n",
    "#Debo generar un vector x por cada feature, y cada vector x debe expandirse,\n",
    "#y luego concatenar todos los vectores x expandidos por lo que la dimension de entrada\n",
    "#sera #features*n_items.\n",
    "\n",
    "#Esto se hace por cada instancia\n",
    "\n",
    "features: list[ItemBatchFeature] = [\n",
    "    Budget,\n",
    "    ProfitOverBudget,\n",
    "    LowerCostOverBudget,\n",
    "    UpperCostOverBudget,\n",
    "    #IsInContSol,\n",
    "    ]\n",
    "\n",
    "def gen_x(features: list[ItemBatchFeature],instance: Instance):\n",
    "    evaluated_features = []\n",
    "    for feature in features:\n",
    "        x_feature = torch.tensor(feature.batch_evaluate(instance))\n",
    "        x_feature = expand_vector(x_feature,instance)\n",
    "        evaluated_features.append(x_feature)\n",
    "    return torch.cat(evaluated_features)"
   ]
  },
  {
   "cell_type": "code",
   "execution_count": 65,
   "metadata": {},
   "outputs": [],
   "source": [
    "class Net(nn.Module):\n",
    "    def __init__(self, entrada,salida):\n",
    "        super(Net, self).__init__()\n",
    "\n",
    "        hidden_size = 200\n",
    "\n",
    "        self.many = nn.Sequential(\n",
    "            nn.Linear(entrada, hidden_size),\n",
    "            nn.Linear(hidden_size,hidden_size),\n",
    "            nn.Linear(hidden_size,salida),\n",
    "            nn.Tanh()\n",
    "        )\n",
    "\n",
    "    def forward(self, x):   \n",
    "        x = self.many(x)\n",
    "        return x"
   ]
  },
  {
   "cell_type": "code",
   "execution_count": 68,
   "metadata": {},
   "outputs": [],
   "source": [
    "instances = map(Instance.from_file,training_data_folder.iterdir()).__iter__()\n",
    "net = Net(len(features)*max_size,max_size)\n",
    "criterion = nn.L1Loss()\n",
    "learning_rate = 0.01\n",
    "optimizer = torch.optim.SGD(net.parameters(), lr=learning_rate)"
   ]
  },
  {
   "cell_type": "code",
   "execution_count": 73,
   "metadata": {},
   "outputs": [
    {
     "name": "stdout",
     "output_type": "stream",
     "text": [
      "Epoch Instance(693,93,#-5976011006941083271), CorrectedLoss 0.5460799433867307"
     ]
    },
    {
     "name": "stdout",
     "output_type": "stream",
     "text": [
      "Epoch Instance(989,42,#8026829103407780265), CorrectedLoss 0.67794576692872343"
     ]
    }
   ],
   "source": [
    "#Training\n",
    "for i,instance in enumerate(instances):\n",
    "    optimizer.zero_grad()\n",
    "    total_loss = 0\n",
    "    x = gen_x(features,instance)\n",
    "    y_pred = net(x)\n",
    "    batch_loss = criterion(y_pred,encode_bool_vec(get_y(instance,instance.optimal_solution)) )\n",
    "    batch_loss.backward()\n",
    "    optimizer.step()\n",
    "    total_loss += batch_loss.item()\n",
    "    sys.stdout.write(f'\\rEpoch {instance}, CorrectedLoss {total_loss}')\n",
    "    sys.stdout.flush()\n"
   ]
  },
  {
   "cell_type": "code",
   "execution_count": 74,
   "metadata": {},
   "outputs": [],
   "source": [
    "test_instance = Instance.generate(1500,50)\n",
    "solution = SolverCollection.gurobi_optimal(test_instance)"
   ]
  },
  {
   "cell_type": "code",
   "execution_count": 83,
   "metadata": {},
   "outputs": [],
   "source": [
    "with torch.no_grad():\n",
    "    test_x = gen_x(features,test_instance)\n",
    "    test_y = net(test_x)"
   ]
  },
  {
   "cell_type": "code",
   "execution_count": 84,
   "metadata": {},
   "outputs": [
    {
     "name": "stdout",
     "output_type": "stream",
     "text": [
      "tensor(1.4542)\n"
     ]
    }
   ],
   "source": [
    "with torch.no_grad():\n",
    "    loss = criterion(test_y,expand_vector(torch.tensor(solution.sol),test_instance))\n",
    "    print(loss)"
   ]
  }
 ],
 "metadata": {
  "kernelspec": {
   "display_name": "Python 3",
   "language": "python",
   "name": "python3"
  },
  "language_info": {
   "codemirror_mode": {
    "name": "ipython",
    "version": 3
   },
   "file_extension": ".py",
   "mimetype": "text/x-python",
   "name": "python",
   "nbconvert_exporter": "python",
   "pygments_lexer": "ipython3",
   "version": "3.11.5"
  },
  "orig_nbformat": 4
 },
 "nbformat": 4,
 "nbformat_minor": 2
}
