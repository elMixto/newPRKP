{
 "cells": [
  {
   "cell_type": "code",
   "execution_count": 1,
   "metadata": {},
   "outputs": [
    {
     "name": "stdout",
     "output_type": "stream",
     "text": [
      "Set parameter Username\n",
      "Academic license - for non-commercial use only - expires 2024-07-21\n"
     ]
    }
   ],
   "source": [
    "from src.data_structures import Instance\n",
    "from src.data_structures.features import *\n",
    "from src.solvers.collection import SolverCollection\n",
    "import torch\n",
    "from torch import nn\n",
    "import os\n",
    "from pathlib import Path\n",
    "import sys\n",
    "torch.set_default_tensor_type(torch.DoubleTensor)\n",
    "test_instance = Instance.generate(500,0)\n",
    "solution = SolverCollection.gurobi_optimal(test_instance)"
   ]
  },
  {
   "cell_type": "code",
   "execution_count": 2,
   "metadata": {},
   "outputs": [],
   "source": [
    "#Training data (Instancias ya solucionadas)\n",
    "max_size = 1000\n",
    "training_data_folder = Path(\"training_data\")\n",
    "instances = map(Instance.from_file,training_data_folder.iterdir()).__iter__()\n",
    "expand_vector = lambda x,instance: torch.cat([x,torch.zeros(max_size-instance.n_items)])\n",
    "get_y = lambda instance: expand_vector(torch.tensor(instance.optimal_solution),instance)"
   ]
  },
  {
   "cell_type": "code",
   "execution_count": 3,
   "metadata": {},
   "outputs": [],
   "source": [
    "#Features\n",
    "#Debo generar un vector x por cada feature, y cada vector x debe expandirse,\n",
    "#y luego concatenar todos los vectores x expandidos por lo que la dimension de entrada\n",
    "#sera #features*n_items.\n",
    "\n",
    "#Esto se hace por cada instancia\n",
    "\n",
    "features: list[ItemBatchFeature] = [\n",
    "    ProfitOverBudget,\n",
    "    LowerCostOverBudget,\n",
    "    IsInContSol,\n",
    "    UpperCostOverBudget\n",
    "    ]\n",
    "\n",
    "def gen_x(features: list[ItemBatchFeature],instance: Instance):\n",
    "    evaluated_features = []\n",
    "    for feature in features:\n",
    "        x_feature = torch.tensor(feature.batch_evaluate(instance))\n",
    "        x_feature = expand_vector(x_feature,instance)\n",
    "        evaluated_features.append(x_feature)\n",
    "    return torch.cat(evaluated_features)"
   ]
  },
  {
   "cell_type": "code",
   "execution_count": 4,
   "metadata": {},
   "outputs": [],
   "source": [
    "class Net(nn.Module):\n",
    "    def __init__(self, entrada,salida):\n",
    "        super(Net, self).__init__()\n",
    "\n",
    "        hidden_size = 50\n",
    "\n",
    "        self.many = nn.Sequential(\n",
    "            nn.Linear(entrada, hidden_size),\n",
    "            nn.Linear(hidden_size,hidden_size),\n",
    "            nn.Linear(hidden_size,salida),\n",
    "            nn.Sigmoid()\n",
    "        )\n",
    "\n",
    "    def forward(self, x):   \n",
    "        x = self.many(x)\n",
    "        return x"
   ]
  },
  {
   "cell_type": "code",
   "execution_count": 12,
   "metadata": {},
   "outputs": [],
   "source": [
    "net = Net(len(features)*max_size,max_size)\n",
    "criterion = nn.SmoothL1Loss()\n",
    "learning_rate = 0.1\n",
    "optimizer = torch.optim.SGD(net.parameters(), lr=learning_rate)"
   ]
  },
  {
   "cell_type": "code",
   "execution_count": 13,
   "metadata": {},
   "outputs": [
    {
     "name": "stdout",
     "output_type": "stream",
     "text": [
      "Epoch 487, CorrectedLoss 0.12029206612976157"
     ]
    },
    {
     "ename": "KeyboardInterrupt",
     "evalue": "",
     "output_type": "error",
     "traceback": [
      "\u001b[0;31m---------------------------------------------------------------------------\u001b[0m",
      "\u001b[0;31mKeyboardInterrupt\u001b[0m                         Traceback (most recent call last)",
      "\u001b[1;32m/home/mixto/repositories/PRKP/full_solver.ipynb Cell 6\u001b[0m line \u001b[0;36m6\n\u001b[1;32m      <a href='vscode-notebook-cell:/home/mixto/repositories/PRKP/full_solver.ipynb#X10sZmlsZQ%3D%3D?line=3'>4</a>\u001b[0m optimizer\u001b[39m.\u001b[39mzero_grad()\n\u001b[1;32m      <a href='vscode-notebook-cell:/home/mixto/repositories/PRKP/full_solver.ipynb#X10sZmlsZQ%3D%3D?line=4'>5</a>\u001b[0m total_loss \u001b[39m=\u001b[39m \u001b[39m0\u001b[39m\n\u001b[0;32m----> <a href='vscode-notebook-cell:/home/mixto/repositories/PRKP/full_solver.ipynb#X10sZmlsZQ%3D%3D?line=5'>6</a>\u001b[0m x \u001b[39m=\u001b[39m gen_x(features,instance)\n\u001b[1;32m      <a href='vscode-notebook-cell:/home/mixto/repositories/PRKP/full_solver.ipynb#X10sZmlsZQ%3D%3D?line=6'>7</a>\u001b[0m y_pred \u001b[39m=\u001b[39m net(x)\n\u001b[1;32m      <a href='vscode-notebook-cell:/home/mixto/repositories/PRKP/full_solver.ipynb#X10sZmlsZQ%3D%3D?line=7'>8</a>\u001b[0m batch_loss \u001b[39m=\u001b[39m criterion(y_pred,get_y(instance) )\n",
      "\u001b[1;32m/home/mixto/repositories/PRKP/full_solver.ipynb Cell 6\u001b[0m line \u001b[0;36m1\n\u001b[1;32m     <a href='vscode-notebook-cell:/home/mixto/repositories/PRKP/full_solver.ipynb#X10sZmlsZQ%3D%3D?line=15'>16</a>\u001b[0m evaluated_features \u001b[39m=\u001b[39m []\n\u001b[1;32m     <a href='vscode-notebook-cell:/home/mixto/repositories/PRKP/full_solver.ipynb#X10sZmlsZQ%3D%3D?line=16'>17</a>\u001b[0m \u001b[39mfor\u001b[39;00m feature \u001b[39min\u001b[39;00m features:\n\u001b[0;32m---> <a href='vscode-notebook-cell:/home/mixto/repositories/PRKP/full_solver.ipynb#X10sZmlsZQ%3D%3D?line=17'>18</a>\u001b[0m     x_feature \u001b[39m=\u001b[39m torch\u001b[39m.\u001b[39mtensor(feature\u001b[39m.\u001b[39;49mbatch_evaluate(instance))\n\u001b[1;32m     <a href='vscode-notebook-cell:/home/mixto/repositories/PRKP/full_solver.ipynb#X10sZmlsZQ%3D%3D?line=18'>19</a>\u001b[0m     x_feature \u001b[39m=\u001b[39m expand_vector(x_feature,instance)\n\u001b[1;32m     <a href='vscode-notebook-cell:/home/mixto/repositories/PRKP/full_solver.ipynb#X10sZmlsZQ%3D%3D?line=19'>20</a>\u001b[0m     evaluated_features\u001b[39m.\u001b[39mappend(x_feature)\n",
      "File \u001b[0;32m~/repositories/PRKP/src/data_structures/features.py:65\u001b[0m, in \u001b[0;36mIsInContSol.batch_evaluate\u001b[0;34m(instance)\u001b[0m\n\u001b[1;32m     62\u001b[0m \u001b[39m@staticmethod\u001b[39m\n\u001b[1;32m     63\u001b[0m \u001b[39mdef\u001b[39;00m \u001b[39mbatch_evaluate\u001b[39m(instance: Instance) \u001b[39m-\u001b[39m\u001b[39m>\u001b[39m ArrayLike:\n\u001b[1;32m     64\u001b[0m     \u001b[39mfrom\u001b[39;00m \u001b[39msrc\u001b[39;00m\u001b[39m.\u001b[39;00m\u001b[39msolvers\u001b[39;00m\u001b[39m.\u001b[39;00m\u001b[39mcollection\u001b[39;00m \u001b[39mimport\u001b[39;00m SolverCollection,SolverConfig\n\u001b[0;32m---> 65\u001b[0m     \u001b[39mreturn\u001b[39;00m SolverCollection\u001b[39m.\u001b[39;49mgurobi_continous(instance)\u001b[39m.\u001b[39msol\n",
      "File \u001b[0;32m~/repositories/PRKP/src/solvers/collection.py:79\u001b[0m, in \u001b[0;36mSolverCollection.gurobi_continous\u001b[0;34m(instance)\u001b[0m\n\u001b[1;32m     76\u001b[0m \u001b[39m@staticmethod\u001b[39m\n\u001b[1;32m     77\u001b[0m \u001b[39mdef\u001b[39;00m \u001b[39mgurobi_continous\u001b[39m(instance: Instance)\u001b[39m-\u001b[39m\u001b[39m>\u001b[39m Solution:\n\u001b[1;32m     78\u001b[0m \u001b[39m    \u001b[39m\u001b[39m\"\"\"This is a wrapper to have some solutions cached\"\"\"\u001b[39;00m\n\u001b[0;32m---> 79\u001b[0m     \u001b[39mreturn\u001b[39;00m SolverCollection\u001b[39m.\u001b[39;49mgurobi(instance,SolverConfig\u001b[39m.\u001b[39;49mcontinous())\n",
      "File \u001b[0;32m~/repositories/PRKP/src/solvers/collection.py:61\u001b[0m, in \u001b[0;36mSolverCollection.gurobi\u001b[0;34m(instance, solver_config)\u001b[0m\n\u001b[1;32m     58\u001b[0m     \u001b[39mpass\u001b[39;00m\n\u001b[1;32m     60\u001b[0m \u001b[39mtry\u001b[39;00m:\n\u001b[0;32m---> 61\u001b[0m     o,sol,t \u001b[39m=\u001b[39m SolverCollection\u001b[39m.\u001b[39;49mgurobi_local(instance,solver_config)\n\u001b[1;32m     62\u001b[0m     instance\u001b[39m.\u001b[39moptimal_solution \u001b[39m=\u001b[39m np\u001b[39m.\u001b[39marray(sol)\n\u001b[1;32m     63\u001b[0m     instance\u001b[39m.\u001b[39moptimal_objective \u001b[39m=\u001b[39m o\n",
      "File \u001b[0;32m~/repositories/PRKP/src/solvers/collection.py:34\u001b[0m, in \u001b[0;36mSolverCollection.gurobi_local\u001b[0;34m(instance, solver_config)\u001b[0m\n\u001b[1;32m     32\u001b[0m \u001b[39m@staticmethod\u001b[39m\n\u001b[1;32m     33\u001b[0m \u001b[39mdef\u001b[39;00m \u001b[39mgurobi_local\u001b[39m(instance: Instance, solver_config: SolverConfig \u001b[39m=\u001b[39m SolverConfig\u001b[39m.\u001b[39moptimal()):\n\u001b[0;32m---> 34\u001b[0m     \u001b[39mreturn\u001b[39;00m solve_polynomial_knapsack(instance,solver_config)\n",
      "File \u001b[0;32m~/repositories/PRKP/src/solvers/gurobi/gurobi_solver.py:80\u001b[0m, in \u001b[0;36msolve_polynomial_knapsack\u001b[0;34m(instance, solver_config)\u001b[0m\n\u001b[1;32m     78\u001b[0m key\u001b[39m=\u001b[39m\u001b[39mtuple\u001b[39m(key)\n\u001b[1;32m     79\u001b[0m \u001b[39m#print(\"\",dict_data['polynomial_gains'][str(key)],\"\\n\",key,\"\\n\")\u001b[39;00m\n\u001b[0;32m---> 80\u001b[0m \u001b[39mif\u001b[39;00m instance\u001b[39m.\u001b[39mpolynomial_gains[\u001b[39mstr\u001b[39m(key)] \u001b[39m>\u001b[39m \u001b[39m0\u001b[39m:\n\u001b[1;32m     81\u001b[0m     model\u001b[39m.\u001b[39maddConstr(\n\u001b[1;32m     82\u001b[0m         quicksum(X[i] \u001b[39mfor\u001b[39;00m i \u001b[39min\u001b[39;00m key) \u001b[39m>\u001b[39m\u001b[39m=\u001b[39m \u001b[39mlen\u001b[39m(key) \u001b[39m*\u001b[39m Z[h],\n\u001b[1;32m     83\u001b[0m         \u001b[39m\"\u001b[39m\u001b[39mhog \u001b[39m\u001b[39m{}\u001b[39;00m\u001b[39m\"\u001b[39m\u001b[39m.\u001b[39mformat(h)\n\u001b[1;32m     84\u001b[0m     )\n\u001b[1;32m     85\u001b[0m \u001b[39melse\u001b[39;00m:\n",
      "\u001b[0;31mKeyboardInterrupt\u001b[0m: "
     ]
    }
   ],
   "source": [
    "#Training\n",
    "for i in range(4000):\n",
    "    instance = Instance.generate(np.random.randint(100,1000),10)\n",
    "    optimizer.zero_grad()\n",
    "    total_loss = 0\n",
    "    x = gen_x(features,instance)\n",
    "    y_pred = net(x)\n",
    "    batch_loss = criterion(y_pred,get_y(instance) )\n",
    "    batch_loss.backward()\n",
    "    optimizer.step()\n",
    "    total_loss += batch_loss.item()    \n",
    "    sys.stdout.write(f'\\rEpoch {i}, CorrectedLoss {total_loss}')\n",
    "    sys.stdout.flush()\n"
   ]
  },
  {
   "cell_type": "code",
   "execution_count": 14,
   "metadata": {},
   "outputs": [],
   "source": [
    "with torch.no_grad():\n",
    "    test_x = gen_x(features,test_instance)\n",
    "    test_y = net(test_x)"
   ]
  },
  {
   "cell_type": "code",
   "execution_count": 18,
   "metadata": {},
   "outputs": [
    {
     "name": "stdout",
     "output_type": "stream",
     "text": [
      "torch.return_types.topk(\n",
      "values=tensor([0.3462, 0.3672, 0.3762, 0.3762, 0.3778, 0.3790, 0.3798, 0.3830, 0.3839,\n",
      "        0.3841]),\n",
      "indices=tensor([955, 621, 541, 797,  85, 181,  21, 496, 747, 883]))\n"
     ]
    }
   ],
   "source": [
    "print(torch.topk(test_y,10,largest=False))\n",
    "#print(solution.sol)\n"
   ]
  }
 ],
 "metadata": {
  "kernelspec": {
   "display_name": "Python 3",
   "language": "python",
   "name": "python3"
  },
  "language_info": {
   "codemirror_mode": {
    "name": "ipython",
    "version": 3
   },
   "file_extension": ".py",
   "mimetype": "text/x-python",
   "name": "python",
   "nbconvert_exporter": "python",
   "pygments_lexer": "ipython3",
   "version": "3.11.5"
  },
  "orig_nbformat": 4
 },
 "nbformat": 4,
 "nbformat_minor": 2
}
