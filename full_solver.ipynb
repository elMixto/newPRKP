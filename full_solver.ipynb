{
 "cells": [
  {
   "cell_type": "code",
   "execution_count": 1,
   "metadata": {},
   "outputs": [],
   "source": [
    "from src.data_structures import Instance\n",
    "from src.data_structures.features import *\n",
    "import torch\n",
    "from torch import nn\n",
    "import os\n",
    "from pathlib import Path"
   ]
  },
  {
   "cell_type": "code",
   "execution_count": 85,
   "metadata": {},
   "outputs": [],
   "source": [
    "#Training data (Instancias ya solucionadas)\n",
    "max_size = 1000\n",
    "training_data_folder = Path(\"training_data\")\n",
    "instances = map(Instance.from_file,training_data_folder.iterdir())\n",
    "instance = next(instances.__iter__())\n",
    "expand_vector = lambda x: torch.cat([x,torch.zeros(max_size-instance.n_items)])\n",
    "get_y = lambda instance: expand_vector(torch.tensor(instance.optimal_solution))"
   ]
  },
  {
   "cell_type": "code",
   "execution_count": 86,
   "metadata": {},
   "outputs": [],
   "source": [
    "y = get_y(instance)"
   ]
  },
  {
   "cell_type": "code",
   "execution_count": 78,
   "metadata": {},
   "outputs": [
    {
     "name": "stdout",
     "output_type": "stream",
     "text": [
      "2000\n"
     ]
    }
   ],
   "source": [
    "#Features\n",
    "#Debo generar un vector x por cada feature, y cada vector x debe expandirse,\n",
    "#y luego concatenar todos los vectores x expandidos por lo que la dimension de entrada\n",
    "#sera #features*n_items.\n",
    "\n",
    "#Esto se hace por cada instancia\n",
    "\n",
    "features: list[ItemBatchFeature] = [ProfitOverBudget,LowerCostOverBudget]\n",
    "evaluated_features = []\n",
    "for feature in features:\n",
    "    x_feature = torch.tensor(feature.batch_evaluate(instance))\n",
    "    x_feature = expand_vector(x_feature)\n",
    "    evaluated_features.append(x_feature)\n",
    "    x = torch.cat(evaluated_features)"
   ]
  },
  {
   "cell_type": "code",
   "execution_count": null,
   "metadata": {},
   "outputs": [],
   "source": [
    "class Net(nn.Module):\n",
    "    def __init__(self, entrada,salida):\n",
    "        super(Net, self).__init__()\n",
    "\n",
    "        hidden_size = 100\n",
    "\n",
    "        self.many = nn.Sequential(\n",
    "            nn.Linear(entrada, hidden_size),\n",
    "            nn.Linear(hidden_size,salida),\n",
    "            nn.Sigmoid()\n",
    "        )\n",
    "\n",
    "    def forward(self, x):   \n",
    "        x = self.many(x)\n",
    "        return x"
   ]
  },
  {
   "cell_type": "code",
   "execution_count": 79,
   "metadata": {},
   "outputs": [],
   "source": [
    "net = Net(len(features)*max_size,max_size)"
   ]
  },
  {
   "cell_type": "code",
   "execution_count": 3,
   "metadata": {},
   "outputs": [],
   "source": [
    "#Training\n",
    "for instance in instances:\n",
    "    total_loss = 0\n",
    "    optimizer.zero_grad()\n",
    "        batch_output = net(batch_x)\n",
    "        batch_loss = criterion(batch_output, batch_y)\n",
    "        batch_loss.backward()\n",
    "        optimizer.step()\n",
    "        total_loss += batch_loss.item()    \n",
    "    sys.stdout.write(f'\\rEpoch {epoch}, Loss {total_loss / len(dataloader)}')\n",
    "    sys.stdout.flush()\n",
    "\n"
   ]
  }
 ],
 "metadata": {
  "kernelspec": {
   "display_name": "Python 3",
   "language": "python",
   "name": "python3"
  },
  "language_info": {
   "codemirror_mode": {
    "name": "ipython",
    "version": 3
   },
   "file_extension": ".py",
   "mimetype": "text/x-python",
   "name": "python",
   "nbconvert_exporter": "python",
   "pygments_lexer": "ipython3",
   "version": "3.11.5"
  },
  "orig_nbformat": 4
 },
 "nbformat": 4,
 "nbformat_minor": 2
}
