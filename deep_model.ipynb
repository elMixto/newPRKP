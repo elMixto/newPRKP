{
 "cells": [
  {
   "cell_type": "code",
   "execution_count": 1,
   "metadata": {},
   "outputs": [
    {
     "name": "stdout",
     "output_type": "stream",
     "text": [
      "Solving 0\n",
      "Solving 1\n",
      "Solving 2\n",
      "Solving 3\n",
      "Solving 4\n",
      "Solving 5\n",
      "Solving 6\n",
      "Solving 7\n",
      "Solving 8\n",
      "Solving 9\n",
      "Solving 10\n",
      "Solving 11\n",
      "Solving 12\n",
      "Solving 13\n",
      "Solving 14\n",
      "Solving 15\n",
      "Solving 16\n",
      "Solving 17\n",
      "Solving 18\n",
      "Solving 19\n",
      "Solving 20\n",
      "Solving 21\n",
      "Solving 22\n",
      "Solving 23\n",
      "Solving 24\n",
      "Solving 25\n",
      "Solving 26\n",
      "Solving 27\n",
      "Solving 28\n",
      "Solving 29\n",
      "Solving 30\n",
      "Solving 31\n",
      "Solving 32\n",
      "Solving 33\n",
      "Solving 34\n",
      "Solving 35\n",
      "Solving 36\n",
      "Solving 37\n",
      "Solving 38\n",
      "Solving 39\n",
      "Solving 40\n",
      "Solving 41\n",
      "Solving 42\n",
      "Solving 43\n",
      "Solving 44\n",
      "Solving 45\n",
      "Solving 46\n",
      "Solving 47\n",
      "Solving 48\n",
      "Solving 49\n",
      "Solving 50\n",
      "Solving 51\n",
      "Solving 52\n",
      "Solving 53\n",
      "Solving 54\n",
      "Solving 55\n",
      "Solving 56\n",
      "Solving 57\n",
      "Solving 58\n",
      "Solving 59\n",
      "Solving 60\n",
      "Solving 61\n",
      "Solving 62\n",
      "Solving 63\n",
      "Solving 64\n",
      "Solving 65\n",
      "Solving 66\n",
      "Solving 67\n",
      "Solving 68\n",
      "Solving 69\n",
      "Solving 70\n",
      "Solving 71\n",
      "Solving 72\n",
      "Solving 73\n",
      "Solving 74\n",
      "Solving 75\n",
      "Solving 76\n",
      "Solving 77\n",
      "Solving 78\n",
      "Solving 79\n",
      "Solving 80\n",
      "Solving 81\n",
      "Solving 82\n",
      "Solving 83\n",
      "Solving 84\n",
      "Solving 85\n",
      "Solving 86\n",
      "Solving 87\n",
      "Solving 88\n",
      "Solving 89\n",
      "Solving 90\n",
      "Solving 91\n",
      "Solving 92\n",
      "Solving 93\n",
      "Solving 94\n",
      "Solving 95\n",
      "Solving 96\n",
      "Solving 97\n",
      "Solving 98\n",
      "Solving 99\n"
     ]
    },
    {
     "data": {
      "text/html": [
       "<div>\n",
       "<style scoped>\n",
       "    .dataframe tbody tr th:only-of-type {\n",
       "        vertical-align: middle;\n",
       "    }\n",
       "\n",
       "    .dataframe tbody tr th {\n",
       "        vertical-align: top;\n",
       "    }\n",
       "\n",
       "    .dataframe thead th {\n",
       "        text-align: right;\n",
       "    }\n",
       "</style>\n",
       "<table border=\"1\" class=\"dataframe\">\n",
       "  <thead>\n",
       "    <tr style=\"text-align: right;\">\n",
       "      <th></th>\n",
       "      <th>o</th>\n",
       "      <th>cont_sol</th>\n",
       "      <th>profit</th>\n",
       "      <th>l_cost</th>\n",
       "      <th>u_cost</th>\n",
       "      <th>is_in_opt_sol</th>\n",
       "    </tr>\n",
       "  </thead>\n",
       "  <tbody>\n",
       "    <tr>\n",
       "      <th>count</th>\n",
       "      <td>10000.000000</td>\n",
       "      <td>10000.000000</td>\n",
       "      <td>10000.000000</td>\n",
       "      <td>10000.000000</td>\n",
       "      <td>10000.000000</td>\n",
       "      <td>10000.000000</td>\n",
       "    </tr>\n",
       "    <tr>\n",
       "      <th>mean</th>\n",
       "      <td>0.012346</td>\n",
       "      <td>0.527740</td>\n",
       "      <td>0.082021</td>\n",
       "      <td>0.029800</td>\n",
       "      <td>0.047489</td>\n",
       "      <td>0.506900</td>\n",
       "    </tr>\n",
       "    <tr>\n",
       "      <th>std</th>\n",
       "      <td>0.003592</td>\n",
       "      <td>0.465073</td>\n",
       "      <td>0.032107</td>\n",
       "      <td>0.019047</td>\n",
       "      <td>0.031520</td>\n",
       "      <td>0.499977</td>\n",
       "    </tr>\n",
       "    <tr>\n",
       "      <th>min</th>\n",
       "      <td>0.005488</td>\n",
       "      <td>0.000000</td>\n",
       "      <td>0.027155</td>\n",
       "      <td>0.000806</td>\n",
       "      <td>0.001048</td>\n",
       "      <td>-0.000000</td>\n",
       "    </tr>\n",
       "    <tr>\n",
       "      <th>25%</th>\n",
       "      <td>0.009463</td>\n",
       "      <td>0.000000</td>\n",
       "      <td>0.057725</td>\n",
       "      <td>0.014294</td>\n",
       "      <td>0.022421</td>\n",
       "      <td>0.000000</td>\n",
       "    </tr>\n",
       "    <tr>\n",
       "      <th>50%</th>\n",
       "      <td>0.012060</td>\n",
       "      <td>0.631348</td>\n",
       "      <td>0.075162</td>\n",
       "      <td>0.027488</td>\n",
       "      <td>0.042770</td>\n",
       "      <td>1.000000</td>\n",
       "    </tr>\n",
       "    <tr>\n",
       "      <th>75%</th>\n",
       "      <td>0.014852</td>\n",
       "      <td>1.000000</td>\n",
       "      <td>0.103297</td>\n",
       "      <td>0.042208</td>\n",
       "      <td>0.067044</td>\n",
       "      <td>1.000000</td>\n",
       "    </tr>\n",
       "    <tr>\n",
       "      <th>max</th>\n",
       "      <td>0.022436</td>\n",
       "      <td>1.000000</td>\n",
       "      <td>0.193335</td>\n",
       "      <td>0.095271</td>\n",
       "      <td>0.178659</td>\n",
       "      <td>1.000000</td>\n",
       "    </tr>\n",
       "  </tbody>\n",
       "</table>\n",
       "</div>"
      ],
      "text/plain": [
       "                  o      cont_sol        profit        l_cost        u_cost  \\\n",
       "count  10000.000000  10000.000000  10000.000000  10000.000000  10000.000000   \n",
       "mean       0.012346      0.527740      0.082021      0.029800      0.047489   \n",
       "std        0.003592      0.465073      0.032107      0.019047      0.031520   \n",
       "min        0.005488      0.000000      0.027155      0.000806      0.001048   \n",
       "25%        0.009463      0.000000      0.057725      0.014294      0.022421   \n",
       "50%        0.012060      0.631348      0.075162      0.027488      0.042770   \n",
       "75%        0.014852      1.000000      0.103297      0.042208      0.067044   \n",
       "max        0.022436      1.000000      0.193335      0.095271      0.178659   \n",
       "\n",
       "       is_in_opt_sol  \n",
       "count   10000.000000  \n",
       "mean        0.506900  \n",
       "std         0.499977  \n",
       "min        -0.000000  \n",
       "25%         0.000000  \n",
       "50%         1.000000  \n",
       "75%         1.000000  \n",
       "max         1.000000  "
      ]
     },
     "execution_count": 1,
     "metadata": {},
     "output_type": "execute_result"
    }
   ],
   "source": [
    "from functools import lru_cache\n",
    "from src.data_structures import Instance\n",
    "from src.solvers.collection import SolverCollection,SolverConfig,VAR_TYPE\n",
    "import pandas as pd\n",
    "\n",
    " "
   ]
  },
  {
   "cell_type": "code",
   "execution_count": null,
   "metadata": {},
   "outputs": [],
   "source": [
    "features_df.to_csv(\"/home/mixto/repositories/newPRKP/train.csv\")"
   ]
  },
  {
   "cell_type": "code",
   "execution_count": 3,
   "metadata": {},
   "outputs": [
    {
     "data": {
      "text/html": [
       "\n",
       "<style>\n",
       "    /* Turns off some styling */\n",
       "    progress {\n",
       "        /* gets rid of default border in Firefox and Opera. */\n",
       "        border: none;\n",
       "        /* Needs to be in here for Safari polyfill so background images work as expected. */\n",
       "        background-size: auto;\n",
       "    }\n",
       "    progress:not([value]), progress:not([value])::-webkit-progress-bar {\n",
       "        background: repeating-linear-gradient(45deg, #7e7e7e, #7e7e7e 10px, #5c5c5c 10px, #5c5c5c 20px);\n",
       "    }\n",
       "    .progress-bar-interrupted, .progress-bar-interrupted::-webkit-progress-bar {\n",
       "        background: #F44336;\n",
       "    }\n",
       "</style>\n"
      ],
      "text/plain": [
       "<IPython.core.display.HTML object>"
      ]
     },
     "metadata": {},
     "output_type": "display_data"
    },
    {
     "data": {
      "text/html": [],
      "text/plain": [
       "<IPython.core.display.HTML object>"
      ]
     },
     "metadata": {},
     "output_type": "display_data"
    },
    {
     "name": "stdout",
     "output_type": "stream",
     "text": [
      "SuggestedLRs(slide=0.033113110810518265, valley=0.015848932787775993)\n"
     ]
    },
    {
     "data": {
      "text/html": [
       "\n",
       "<style>\n",
       "    /* Turns off some styling */\n",
       "    progress {\n",
       "        /* gets rid of default border in Firefox and Opera. */\n",
       "        border: none;\n",
       "        /* Needs to be in here for Safari polyfill so background images work as expected. */\n",
       "        background-size: auto;\n",
       "    }\n",
       "    progress:not([value]), progress:not([value])::-webkit-progress-bar {\n",
       "        background: repeating-linear-gradient(45deg, #7e7e7e, #7e7e7e 10px, #5c5c5c 10px, #5c5c5c 20px);\n",
       "    }\n",
       "    .progress-bar-interrupted, .progress-bar-interrupted::-webkit-progress-bar {\n",
       "        background: #F44336;\n",
       "    }\n",
       "</style>\n"
      ],
      "text/plain": [
       "<IPython.core.display.HTML object>"
      ]
     },
     "metadata": {},
     "output_type": "display_data"
    },
    {
     "data": {
      "text/html": [
       "<table border=\"1\" class=\"dataframe\">\n",
       "  <thead>\n",
       "    <tr style=\"text-align: left;\">\n",
       "      <th>epoch</th>\n",
       "      <th>train_loss</th>\n",
       "      <th>valid_loss</th>\n",
       "      <th>accuracy</th>\n",
       "      <th>time</th>\n",
       "    </tr>\n",
       "  </thead>\n",
       "  <tbody>\n",
       "    <tr>\n",
       "      <td>0</td>\n",
       "      <td>0.231039</td>\n",
       "      <td>0.194509</td>\n",
       "      <td>0.924000</td>\n",
       "      <td>00:00</td>\n",
       "    </tr>\n",
       "    <tr>\n",
       "      <td>1</td>\n",
       "      <td>0.225925</td>\n",
       "      <td>0.192201</td>\n",
       "      <td>0.929500</td>\n",
       "      <td>00:00</td>\n",
       "    </tr>\n",
       "  </tbody>\n",
       "</table>"
      ],
      "text/plain": [
       "<IPython.core.display.HTML object>"
      ]
     },
     "metadata": {},
     "output_type": "display_data"
    },
    {
     "data": {
      "text/html": [
       "\n",
       "<style>\n",
       "    /* Turns off some styling */\n",
       "    progress {\n",
       "        /* gets rid of default border in Firefox and Opera. */\n",
       "        border: none;\n",
       "        /* Needs to be in here for Safari polyfill so background images work as expected. */\n",
       "        background-size: auto;\n",
       "    }\n",
       "    progress:not([value]), progress:not([value])::-webkit-progress-bar {\n",
       "        background: repeating-linear-gradient(45deg, #7e7e7e, #7e7e7e 10px, #5c5c5c 10px, #5c5c5c 20px);\n",
       "    }\n",
       "    .progress-bar-interrupted, .progress-bar-interrupted::-webkit-progress-bar {\n",
       "        background: #F44336;\n",
       "    }\n",
       "</style>\n"
      ],
      "text/plain": [
       "<IPython.core.display.HTML object>"
      ]
     },
     "metadata": {},
     "output_type": "display_data"
    },
    {
     "data": {
      "text/html": [],
      "text/plain": [
       "<IPython.core.display.HTML object>"
      ]
     },
     "metadata": {},
     "output_type": "display_data"
    },
    {
     "data": {
      "text/html": [
       "<table border=\"1\" class=\"dataframe\">\n",
       "  <thead>\n",
       "    <tr style=\"text-align: right;\">\n",
       "      <th></th>\n",
       "      <th>o</th>\n",
       "      <th>cont_sol</th>\n",
       "      <th>profit</th>\n",
       "      <th>l_cost</th>\n",
       "      <th>u_cost</th>\n",
       "      <th>is_in_opt_sol</th>\n",
       "      <th>is_in_opt_sol_pred</th>\n",
       "    </tr>\n",
       "  </thead>\n",
       "  <tbody>\n",
       "    <tr>\n",
       "      <th>0</th>\n",
       "      <td>0.010967</td>\n",
       "      <td>1.000000</td>\n",
       "      <td>0.068683</td>\n",
       "      <td>0.006520</td>\n",
       "      <td>0.012389</td>\n",
       "      <td>1.0</td>\n",
       "      <td>1.0</td>\n",
       "    </tr>\n",
       "    <tr>\n",
       "      <th>1</th>\n",
       "      <td>0.009325</td>\n",
       "      <td>0.000000</td>\n",
       "      <td>0.054842</td>\n",
       "      <td>0.033271</td>\n",
       "      <td>0.053234</td>\n",
       "      <td>0.0</td>\n",
       "      <td>0.0</td>\n",
       "    </tr>\n",
       "    <tr>\n",
       "      <th>2</th>\n",
       "      <td>0.009471</td>\n",
       "      <td>0.496336</td>\n",
       "      <td>0.071221</td>\n",
       "      <td>0.032645</td>\n",
       "      <td>0.062025</td>\n",
       "      <td>1.0</td>\n",
       "      <td>0.0</td>\n",
       "    </tr>\n",
       "    <tr>\n",
       "      <th>3</th>\n",
       "      <td>0.007350</td>\n",
       "      <td>0.000000</td>\n",
       "      <td>0.037950</td>\n",
       "      <td>0.026278</td>\n",
       "      <td>0.049928</td>\n",
       "      <td>0.0</td>\n",
       "      <td>0.0</td>\n",
       "    </tr>\n",
       "    <tr>\n",
       "      <th>4</th>\n",
       "      <td>0.015276</td>\n",
       "      <td>0.461550</td>\n",
       "      <td>0.113534</td>\n",
       "      <td>0.032991</td>\n",
       "      <td>0.062682</td>\n",
       "      <td>1.0</td>\n",
       "      <td>0.0</td>\n",
       "    </tr>\n",
       "    <tr>\n",
       "      <th>5</th>\n",
       "      <td>0.013010</td>\n",
       "      <td>1.000000</td>\n",
       "      <td>0.069032</td>\n",
       "      <td>0.008321</td>\n",
       "      <td>0.013314</td>\n",
       "      <td>1.0</td>\n",
       "      <td>1.0</td>\n",
       "    </tr>\n",
       "    <tr>\n",
       "      <th>6</th>\n",
       "      <td>0.009112</td>\n",
       "      <td>0.000000</td>\n",
       "      <td>0.055641</td>\n",
       "      <td>0.056244</td>\n",
       "      <td>0.073118</td>\n",
       "      <td>0.0</td>\n",
       "      <td>0.0</td>\n",
       "    </tr>\n",
       "    <tr>\n",
       "      <th>7</th>\n",
       "      <td>0.008174</td>\n",
       "      <td>0.000000</td>\n",
       "      <td>0.054252</td>\n",
       "      <td>0.036010</td>\n",
       "      <td>0.057617</td>\n",
       "      <td>0.0</td>\n",
       "      <td>0.0</td>\n",
       "    </tr>\n",
       "    <tr>\n",
       "      <th>8</th>\n",
       "      <td>0.015830</td>\n",
       "      <td>1.000000</td>\n",
       "      <td>0.129641</td>\n",
       "      <td>0.020283</td>\n",
       "      <td>0.032453</td>\n",
       "      <td>1.0</td>\n",
       "      <td>1.0</td>\n",
       "    </tr>\n",
       "  </tbody>\n",
       "</table>"
      ],
      "text/plain": [
       "<IPython.core.display.HTML object>"
      ]
     },
     "metadata": {},
     "output_type": "display_data"
    },
    {
     "data": {
      "image/png": "[encoded data removed]",
      "text/plain": [
       "<Figure size 640x480 with 1 Axes>"
      ]
     },
     "metadata": {},
     "output_type": "display_data"
    }
   ],
   "source": [
    "from src.solvers.collection import SolverCollection\n",
    "from src.data_structures import Instance\n",
    "from src.solvers.gurobi import SolverConfig\n",
    "from torch import tensor\n",
    "import torch\n",
    "import pandas as pd\n",
    "from fastai.tabular.all import RandomSplitter,TabularPandas,Categorify,CategoryBlock,TabularDataLoaders,RegressionBlock\n",
    "from fastai.tabular.all import tabular_learner,accuracy,slide,valley, Normalize,FillMissing\n",
    "#Col dep\n",
    "\n",
    "\n",
    "#train_data = pd.read_csv(\"/home/mixto/repositories/newPRKP/train.csv\")\n",
    "#train_data.describe()\n",
    "\n",
    "train_data = features_df\n",
    "train_data.describe()\n",
    "\n",
    "splits = RandomSplitter(seed=42)(train_data)\n",
    "dls = TabularPandas(\n",
    "        train_data,\n",
    "        splits = splits,\n",
    "        procs = [],\n",
    "        cat_names = [],\n",
    "        cont_names = [\"o\",\"cont_sol\",\"profit\",\"l_cost\",\"u_cost\"],\n",
    "        y_names =[\"is_in_opt_sol\"],\n",
    "        y_block = CategoryBlock()\n",
    "        ).dataloaders(path=\".\",bs=64)\n",
    "learn = tabular_learner(dls,metrics=accuracy,layers=[10])\n",
    "a = learn.lr_find(suggest_funcs=(slide, valley))\n",
    "learn.fit(2,lr=(a[1]+a[0])/2)\n",
    "learn.show_results()\n",
    "\n",
    "\n",
    "\n",
    "\n",
    "\n",
    "\n"
   ]
  },
  {
   "cell_type": "code",
   "execution_count": 2,
   "metadata": {},
   "outputs": [
    {
     "name": "stdout",
     "output_type": "stream",
     "text": [
      "Generated instance\n",
      "Calculating features\n"
     ]
    },
    {
     "ename": "TypeError",
     "evalue": "cannot unpack non-iterable Solution object",
     "output_type": "error",
     "traceback": [
      "\u001b[0;31m---------------------------------------------------------------------------\u001b[0m",
      "\u001b[0;31mTypeError\u001b[0m                                 Traceback (most recent call last)",
      "Cell \u001b[0;32mIn[2], line 5\u001b[0m\n\u001b[1;32m      3\u001b[0m \u001b[39m#instance.precalcs()\u001b[39;00m\n\u001b[1;32m      4\u001b[0m \u001b[39mprint\u001b[39m(\u001b[39m\"\u001b[39m\u001b[39mCalculating features\u001b[39m\u001b[39m\"\u001b[39m)\n\u001b[0;32m----> 5\u001b[0m features \u001b[39m=\u001b[39m instance\u001b[39m.\u001b[39;49mfeatures()\n\u001b[1;32m      6\u001b[0m data \u001b[39m=\u001b[39m pd\u001b[39m.\u001b[39mDataFrame(features,columns\u001b[39m=\u001b[39m[\u001b[39m\"\u001b[39m\u001b[39mo\u001b[39m\u001b[39m\"\u001b[39m,\u001b[39m\"\u001b[39m\u001b[39mcont_sol\u001b[39m\u001b[39m\"\u001b[39m,\u001b[39m\"\u001b[39m\u001b[39mprofit\u001b[39m\u001b[39m\"\u001b[39m,\u001b[39m\"\u001b[39m\u001b[39ml_cost\u001b[39m\u001b[39m\"\u001b[39m,\u001b[39m\"\u001b[39m\u001b[39mu_cost\u001b[39m\u001b[39m\"\u001b[39m])\n\u001b[1;32m      7\u001b[0m test_dl \u001b[39m=\u001b[39m learn\u001b[39m.\u001b[39mdls\u001b[39m.\u001b[39mtest_dl(data)\n",
      "File \u001b[0;32m~/repositories/newPRKP/src/data_structures/Instance.py:74\u001b[0m, in \u001b[0;36mInstance.features\u001b[0;34m(self)\u001b[0m\n\u001b[1;32m     72\u001b[0m \u001b[39mdef\u001b[39;00m \u001b[39mfeatures\u001b[39m(\u001b[39mself\u001b[39m):\n\u001b[1;32m     73\u001b[0m     \u001b[39mfrom\u001b[39;00m \u001b[39msrc\u001b[39;00m\u001b[39m.\u001b[39;00m\u001b[39msolvers\u001b[39;00m\u001b[39m.\u001b[39;00m\u001b[39mcollection\u001b[39;00m \u001b[39mimport\u001b[39;00m SolverCollection,SolverConfig,VAR_TYPE\n\u001b[0;32m---> 74\u001b[0m     o,sol,_ \u001b[39m=\u001b[39m SolverCollection\u001b[39m.\u001b[39mgurobi(\u001b[39mself\u001b[39m,SolverConfig(VAR_TYPE\u001b[39m.\u001b[39mCONTINOUS,\u001b[39mFalse\u001b[39;00m,[]))\n\u001b[1;32m     75\u001b[0m     items \u001b[39m=\u001b[39m []\n\u001b[1;32m     76\u001b[0m     \u001b[39mfor\u001b[39;00m i \u001b[39min\u001b[39;00m \u001b[39mrange\u001b[39m(\u001b[39mself\u001b[39m\u001b[39m.\u001b[39mn_items):\n",
      "\u001b[0;31mTypeError\u001b[0m: cannot unpack non-iterable Solution object"
     ]
    }
   ],
   "source": [
    "instance = Instance.generate(10000,100)\n",
    "print(\"Generated instance\")\n",
    "#instance.precalcs()\n",
    "print(\"Calculating features\")\n",
    "features = instance.features()\n",
    "data = pd.DataFrame(features,columns=[\"o\",\"cont_sol\",\"profit\",\"l_cost\",\"u_cost\"])\n",
    "test_dl = learn.dls.test_dl(data)\n",
    "print(\"Getting Predictions\")\n",
    "preds, targets = learn.get_preds(dl=test_dl,reorder=True)\n",
    "\n",
    "def elevate(x):\n",
    "    if x > 0.5:\n",
    "        return 1\n",
    "    else:\n",
    "        return 0\n",
    "\n",
    "sol_dl = preds[:,1]\n",
    "sol_dl = list(map(lambda x:elevate(x),sol_dl ))\n",
    "#opt_sol = SolverCollection.gurobi(instance,SolverConfig.continous())[1]\n",
    "#optimal_sol, cont_sol, _ = SolverCollection.gurobi(instance,SolverConfig.optimal())\n",
    "\n",
    "\n",
    "def compare_sols(opt_sol,cont_sol):\n",
    "    equals = 0\n",
    "    different = 0 \n",
    "    for i,v in enumerate(opt_sol):\n",
    "        if int(opt_sol[i]) == int(cont_sol[i]):\n",
    "            equals += 1\n",
    "        else:\n",
    "            different += 1\n",
    "    print(equals/(equals+different))\n",
    "\n",
    "print(\"Solving with baldo ML\")\n",
    "baldo_o, sol_ml, _  = SolverCollection.baldo_ML(instance)\n",
    "\n",
    "from time import time\n",
    "start = time()\n",
    "print(sol_ml)\n",
    "print(f\"Ml: {time() - start}\")\n",
    "start = time()\n",
    "print(sol_dl)\n",
    "print(f\"DL: {time() - start}\")\n",
    "#compare_sols(sol_dl,opt_sol)\n",
    "\n",
    "\n",
    "\n",
    "\n",
    "\n",
    "\n"
   ]
  },
  {
   "cell_type": "code",
   "execution_count": null,
   "metadata": {},
   "outputs": [
    {
     "name": "stdout",
     "output_type": "stream",
     "text": [
      "Set parameter Username\n"
     ]
    },
    {
     "ename": "TypeError",
     "evalue": "cannot unpack non-iterable NoneType object",
     "output_type": "error",
     "traceback": [
      "\u001b[0;31m---------------------------------------------------------------------------\u001b[0m",
      "\u001b[0;31mTypeError\u001b[0m                                 Traceback (most recent call last)",
      "Cell \u001b[0;32mIn[29], line 6\u001b[0m\n\u001b[1;32m      4\u001b[0m y_ml \u001b[39m=\u001b[39m fix_variables(instance\u001b[39m.\u001b[39mn_items, preds, \u001b[39m0.85\u001b[39m)\n\u001b[1;32m      5\u001b[0m discrete_config \u001b[39m=\u001b[39m SolverConfig(VAR_TYPE\u001b[39m.\u001b[39mBINARY,\u001b[39mTrue\u001b[39;00m,y_ml)\n\u001b[0;32m----> 6\u001b[0m o, final_sol,_ \u001b[39m=\u001b[39m SolverCollection\u001b[39m.\u001b[39mgurobi(instance,discrete_config)\n",
      "\u001b[0;31mTypeError\u001b[0m: cannot unpack non-iterable NoneType object"
     ]
    }
   ],
   "source": [
    "from src.solvers.MLHeu.functions_ml import prepare_set,fix_variables\n",
    "from src.solvers.gurobi import VAR_TYPE\n",
    "\n",
    "y_ml = fix_variables(instance.n_items, preds, 0.85)\n",
    "discrete_config = SolverConfig(VAR_TYPE.BINARY,True,y_ml)\n",
    "o, final_sol,_ = SolverCollection.gurobi(instance,discrete_config)"
   ]
  },
  {
   "cell_type": "code",
   "execution_count": null,
   "metadata": {},
   "outputs": [
    {
     "ename": "ZeroDivisionError",
     "evalue": "division by zero",
     "output_type": "error",
     "traceback": [
      "\u001b[0;31m---------------------------------------------------------------------------\u001b[0m",
      "\u001b[0;31mZeroDivisionError\u001b[0m                         Traceback (most recent call last)",
      "Cell \u001b[0;32mIn[28], line 1\u001b[0m\n\u001b[0;32m----> 1\u001b[0m compare_sols(final_sol,sol_ml)\n",
      "Cell \u001b[0;32mIn[8], line 31\u001b[0m, in \u001b[0;36mcompare_sols\u001b[0;34m(opt_sol, cont_sol)\u001b[0m\n\u001b[1;32m     29\u001b[0m     \u001b[39melse\u001b[39;00m:\n\u001b[1;32m     30\u001b[0m         different \u001b[39m+\u001b[39m\u001b[39m=\u001b[39m \u001b[39m1\u001b[39m\n\u001b[0;32m---> 31\u001b[0m \u001b[39mprint\u001b[39m(equals\u001b[39m/\u001b[39;49m(equals\u001b[39m+\u001b[39;49mdifferent))\n",
      "\u001b[0;31mZeroDivisionError\u001b[0m: division by zero"
     ]
    }
   ],
   "source": [
    "compare_sols(final_sol,sol_ml)"
   ]
  },
  {
   "cell_type": "code",
   "execution_count": null,
   "metadata": {},
   "outputs": [
    {
     "name": "stdout",
     "output_type": "stream",
     "text": [
      "327213.40119858336 326674.273975966\n"
     ]
    }
   ],
   "source": [
    "print(o,baldo_o)"
   ]
  },
  {
   "cell_type": "code",
   "execution_count": null,
   "metadata": {},
   "outputs": [],
   "source": [
    "o, optimal, _ = SolverCollection.gurobi(instance,SolverConfig.optimal())"
   ]
  },
  {
   "cell_type": "code",
   "execution_count": null,
   "metadata": {},
   "outputs": [
    {
     "name": "stdout",
     "output_type": "stream",
     "text": [
      "327272.57156632014\n"
     ]
    }
   ],
   "source": [
    "print(o)"
   ]
  },
  {
   "cell_type": "code",
   "execution_count": null,
   "metadata": {},
   "outputs": [],
   "source": [
    "instance.solution = optimal\n",
    "instance.objective = o\n",
    "instance.save(\"\")"
   ]
  }
 ],
 "metadata": {
  "kernelspec": {
   "display_name": "Python 3",
   "language": "python",
   "name": "python3"
  },
  "language_info": {
   "codemirror_mode": {
    "name": "ipython",
    "version": 3
   },
   "file_extension": ".py",
   "mimetype": "text/x-python",
   "name": "python",
   "nbconvert_exporter": "python",
   "pygments_lexer": "ipython3",
   "version": "3.11.3"
  },
  "orig_nbformat": 4
 },
 "nbformat": 4,
 "nbformat_minor": 2
}
